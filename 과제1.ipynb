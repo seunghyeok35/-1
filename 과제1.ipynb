{
  "nbformat": 4,
  "nbformat_minor": 0,
  "metadata": {
    "colab": {
      "provenance": []
    },
    "kernelspec": {
      "name": "python3",
      "display_name": "Python 3"
    },
    "language_info": {
      "name": "python"
    }
  },
  "cells": [
    {
      "cell_type": "code",
      "execution_count": 2,
      "metadata": {
        "colab": {
          "base_uri": "https://localhost:8080/"
        },
        "id": "iJLVtKniQ-Be",
        "outputId": "20441037-f568-4e67-a04e-b40b157e9160"
      },
      "outputs": [
        {
          "output_type": "stream",
          "name": "stdout",
          "text": [
            "나는 최승혁 이다.\n"
          ]
        }
      ],
      "source": [
        "x=\"나는 최승혁 이다.\"\n",
        "print(x)"
      ]
    }
  ]
}
