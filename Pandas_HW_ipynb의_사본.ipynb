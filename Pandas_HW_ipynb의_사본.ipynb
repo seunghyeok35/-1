{
  "nbformat": 4,
  "nbformat_minor": 0,
  "metadata": {
    "colab": {
      "provenance": []
    },
    "kernelspec": {
      "name": "python3",
      "display_name": "Python 3"
    },
    "language_info": {
      "name": "python"
    }
  },
  "cells": [
    {
      "cell_type": "markdown",
      "source": [
        "# 모두 실행해 보시고, 다음 물음에 답하시길 바랍니다."
      ],
      "metadata": {
        "id": "xVgmFf8u17Mg"
      }
    },
    {
      "cell_type": "markdown",
      "source": [
        "**[숙제 1]** /content\n",
        "['.config', 'sample_data']\n",
        "['README.md', 'anscombe.json', 'california_housing_train.csv', 'mnist_test.csv', 'california_housing_test.csv', 'mnist_train_small.csv']"
      ],
      "metadata": {
        "id": "Jym5zfHtyyH0"
      }
    },
    {
      "cell_type": "code",
      "source": [
        "import os\n",
        "\n",
        "os.chdir('/content/')\n",
        "\n",
        "print(os.getcwd()) \n",
        "\n",
        "print(os.listdir()) \n",
        "\n",
        "os.chdir('/content/sample_data/')\n",
        "\n",
        "print(os.listdir()) \n"
      ],
      "metadata": {
        "id": "FfuaxG025SsF"
      },
      "execution_count": null,
      "outputs": []
    },
    {
      "cell_type": "markdown",
      "source": [
        "**[숙제 2]**           country continent  year  lifeExp       pop   gdpPercap\n",
        "0     Afghanistan      Asia  1952   28.801   8425333  779.445314\n",
        "1     Afghanistan      Asia  1957   30.332   9240934  820.853030\n",
        "2     Afghanistan      Asia  1962   31.997  10267083  853.100710\n",
        "3     Afghanistan      Asia  1967   34.020  11537966  836.197138\n",
        "4     Afghanistan      Asia  1972   36.088  13079460  739.981106\n",
        "...           ...       ...   ...      ...       ...         ...\n",
        "1699     Zimbabwe    Africa  1987   62.351   9216418  706.157306\n",
        "1700     Zimbabwe    Africa  1992   60.377  10704340  693.420786\n",
        "1701     Zimbabwe    Africa  1997   46.809  11404948  792.449960\n",
        "1702     Zimbabwe    Africa  2002   39.989  11926563  672.038623\n",
        "1703     Zimbabwe    Africa  2007   43.487  12311143  469.709298\n",
        "\n",
        "[1704 rows x 6 columns]"
      ],
      "metadata": {
        "id": "hTJ5QByyy8vP"
      }
    },
    {
      "cell_type": "code",
      "source": [
        "### 와~ pandas\n",
        "\n",
        "import pandas as pd\n",
        "\n",
        "\n",
        "targetUrl = \"https://raw.githubusercontent.com/gundaminpde/2022/main/gapminder_sample.tsv\"\n",
        "\n",
        "df2 = pd.read_csv(targetUrl, sep='\\t')\n",
        "df2 \n"
      ],
      "metadata": {
        "id": "jwT3_cPO7uVk"
      },
      "execution_count": null,
      "outputs": []
    },
    {
      "cell_type": "code",
      "source": [],
      "metadata": {
        "id": "kr5ewYZrYBJr"
      },
      "execution_count": null,
      "outputs": []
    },
    {
      "cell_type": "markdown",
      "source": [],
      "metadata": {
        "id": "EJ7WxPxYFY3r"
      }
    },
    {
      "cell_type": "markdown",
      "source": [
        "[숙제 3]        country continent  year  lifeExp       pop   gdpPercap\n",
        "0  Afghanistan      Asia  1952   28.801   8425333  779.445314\n",
        "1  Afghanistan      Asia  1957   30.332   9240934  820.853030\n",
        "2  Afghanistan      Asia  1962   31.997  10267083  853.100710\n",
        "3  Afghanistan      Asia  1967   34.020  11537966  836.197138\n",
        "4  Afghanistan      Asia  1972   36.088  13079460  739.981106"
      ],
      "metadata": {
        "id": "qq3M7eP5FiKL"
      }
    },
    {
      "cell_type": "code",
      "source": [
        "print(df2.head( ))"
      ],
      "metadata": {
        "id": "0Wsf74zeumzj"
      },
      "execution_count": null,
      "outputs": []
    },
    {
      "cell_type": "markdown",
      "source": [],
      "metadata": {
        "id": "Y6AMJujYuuQT"
      }
    },
    {
      "cell_type": "markdown",
      "source": [
        "**[숙제 4]** <class 'pandas.core.frame.DataFrame'>"
      ],
      "metadata": {
        "id": "0NFSclpYzCax"
      }
    },
    {
      "cell_type": "markdown",
      "source": [],
      "metadata": {
        "id": "9tGSH5P1YK-z"
      }
    },
    {
      "cell_type": "code",
      "source": [
        "print(type(df2))"
      ],
      "metadata": {
        "id": "sb-7ICDmuu7O"
      },
      "execution_count": null,
      "outputs": []
    },
    {
      "cell_type": "markdown",
      "source": [
        "**[숙제 5]** (1704, 6)"
      ],
      "metadata": {
        "id": "DTcv1pzbzEVI"
      }
    },
    {
      "cell_type": "code",
      "source": [
        "print(df2.shape)"
      ],
      "metadata": {
        "colab": {
          "base_uri": "https://localhost:8080/"
        },
        "id": "krXTJpk8uzJW",
        "outputId": "cc066f20-ca05-4ab0-b428-320a8ff24d4c"
      },
      "execution_count": null,
      "outputs": [
        {
          "output_type": "stream",
          "name": "stdout",
          "text": [
            "(1704, 6)\n"
          ]
        }
      ]
    },
    {
      "cell_type": "markdown",
      "source": [
        "**[숙제 6]** Index(['country', 'continent', 'year', 'lifeExp', 'pop', 'gdpPercap'], dtype='object')"
      ],
      "metadata": {
        "id": "wvEWjXEgzGT8"
      }
    },
    {
      "cell_type": "code",
      "source": [
        "print( df2.columns)\n"
      ],
      "metadata": {
        "id": "eInuiq4lu1Dt"
      },
      "execution_count": null,
      "outputs": []
    },
    {
      "cell_type": "markdown",
      "source": [
        "**[숙제7]** country       object\n",
        "continent     object\n",
        "year           int64\n",
        "lifeExp      float64\n",
        "pop            int64\n",
        "gdpPercap    float64\n",
        "dtype: object"
      ],
      "metadata": {
        "id": "d3b03rMtzJZi"
      }
    },
    {
      "cell_type": "code",
      "source": [
        "print(df2.dtypes)\n"
      ],
      "metadata": {
        "id": "bKNgDqYwu2xS"
      },
      "execution_count": null,
      "outputs": []
    },
    {
      "cell_type": "markdown",
      "source": [
        "**[숙제8]** <class 'pandas.core.frame.DataFrame'>\n",
        "RangeIndex: 1704 entries, 0 to 1703\n",
        "Data columns (total 6 columns):\n",
        " #   Column     Non-Null Count  Dtype  \n",
        "---  ------     --------------  -----  \n",
        " 0   country    1704 non-null   object \n",
        " 1   continent  1704 non-null   object \n",
        " 2   year       1704 non-null   int64  \n",
        " 3   lifeExp    1704 non-null   float64\n",
        " 4   pop        1704 non-null   int64  \n",
        " 5   gdpPercap  1704 non-null   float64\n",
        "dtypes: float64(2), int64(2), object(2)\n",
        "memory usage: 80.0+ KB\n",
        "None"
      ],
      "metadata": {
        "id": "CfnaBnYPzLat"
      }
    },
    {
      "cell_type": "code",
      "source": [
        "print(df2.info())"
      ],
      "metadata": {
        "id": "XR5JICfFu4Y9"
      },
      "execution_count": null,
      "outputs": []
    },
    {
      "cell_type": "markdown",
      "source": [
        "**[숙제9]** Cloning into 'chow'...\n",
        "remote: Enumerating objects: 9, done.\n",
        "remote: Counting objects: 100% (9/9), done.\n",
        "remote: Compressing objects: 100% (8/8), done.\n",
        "remote: Total 9 (delta 0), reused 0 (delta 0), pack-reused 0\n",
        "Unpacking objects: 100% (9/9), 119.53 KiB | 7.03 MiB/s, done.\n",
        "   1  2.88  2.16  1.1  0  0.1  0.2  1.2  1.3  3  0.3  0.4  0.5  1.4  0.6  60  \\\n",
        "0  2  3.40  1.88    0  0    0    0    0    0  1    0    0    0    1    0  51   \n",
        "1  2  2.76  2.08    1  0    0    0    1    0  0    0    0    0    1    0  59   \n",
        "2  2  3.68  3.04    0  0    0    0    0    0  0    0    0    0    0    0  54   \n",
        "3  2  2.44  0.96    2  0    1    0    1    1  0    0    0    0    1    0  73   \n",
        "4  2  2.48  1.88    1  0    0    0    1    0  0    0    0    0    0    0  51   \n",
        "\n",
        "   0.7  \n",
        "0    0  \n",
        "1    0  \n",
        "2    0  \n",
        "3    1  \n",
        "4    0  "
      ],
      "metadata": {
        "id": "HHTxfxiSzNlb"
      }
    },
    {
      "cell_type": "code",
      "source": [
        "\n",
        "!git clone https://github.com/gundaminpde/chow.git\n",
        "\n",
        "df3 = pd.read_csv(\"./chow/ThoraricSurgery.csv\", sep=',') \n",
        "\n",
        "print(df3.head())\n",
        "\n",
        "\n"
      ],
      "metadata": {
        "id": "MuZ4ODY5rb2G"
      },
      "execution_count": null,
      "outputs": []
    },
    {
      "cell_type": "code",
      "source": [
        "## csv 화일의 기본 형태\n",
        "\n",
        "## [[1행 리스트],[2행 리스트 ],[3행 리스트] ... ] "
      ],
      "metadata": {
        "id": "CUbfsyif_OnX"
      },
      "execution_count": null,
      "outputs": []
    },
    {
      "cell_type": "code",
      "source": [
        "# 판다스 자료형 : 파이썬 자료형 : 설명\n",
        "#  object    : string    : 문자열\n",
        "#  int64     : int       : 정수\n",
        "#   float64  : float     : 소숫점 가진 숫자\n",
        "# datetime64 : datetime  : 파이썬 라이브러리 datetime 반환하는 자료형 (시계열할 때)\n"
      ],
      "metadata": {
        "id": "K1uapEkcf6FF"
      },
      "execution_count": null,
      "outputs": []
    },
    {
      "cell_type": "markdown",
      "source": [
        "**[숙제10]** country continent  year  lifeExp       pop   gdpPercap\n",
        "0  Afghanistan      Asia  1952   28.801   8425333  779.445314\n",
        "1  Afghanistan      Asia  1957   30.332   9240934  820.853030\n",
        "2  Afghanistan      Asia  1962   31.997  10267083  853.100710\n",
        "3  Afghanistan      Asia  1967   34.020  11537966  836.197138\n",
        "4  Afghanistan      Asia  1972   36.088  13079460  739.981106\n",
        " \n",
        "<class 'pandas.core.series.Series'>\n",
        "0    Afghanistan\n",
        "1    Afghanistan\n",
        "2    Afghanistan\n",
        "3    Afghanistan\n",
        "4    Afghanistan\n",
        "Name: country, dtype: object\n",
        "1699    Zimbabwe\n",
        "1700    Zimbabwe\n",
        "1701    Zimbabwe\n",
        "1702    Zimbabwe\n",
        "1703    Zimbabwe\n",
        "Name: country, dtype: object"
      ],
      "metadata": {
        "id": "tGhTsUDqzPZ5"
      }
    },
    {
      "cell_type": "code",
      "source": [
        "\n",
        "print(df2.head())\n",
        "\n",
        "print(\" \")\n",
        "\n",
        "countary_df=df2[\"country\"]\n",
        "\n",
        "print(type(countary_df)) \n",
        "\n",
        "print(countary_df.head())\n",
        "\n",
        "print(countary_df.tail())\n"
      ],
      "metadata": {
        "id": "FXSn4_JNh0On"
      },
      "execution_count": null,
      "outputs": []
    },
    {
      "cell_type": "markdown",
      "source": [
        "**[숙제11]**        <class 'pandas.core.frame.DataFrame'>\n",
        "       country continent  year\n",
        "0  Afghanistan      Asia  1952\n",
        "1  Afghanistan      Asia  1957\n",
        "2  Afghanistan      Asia  1962\n",
        "3  Afghanistan      Asia  1967\n",
        "4  Afghanistan      Asia  1972\n",
        "       country continent  year\n",
        "1699  Zimbabwe    Africa  1987\n",
        "1700  Zimbabwe    Africa  1992\n",
        "1701  Zimbabwe    Africa  1997\n",
        "1702  Zimbabwe    Africa  2002\n",
        "1703  Zimbabwe    Africa  2007"
      ],
      "metadata": {
        "id": "sEOcwx_yzRxp"
      }
    },
    {
      "cell_type": "code",
      "source": [
        "\n",
        "subset_df=df2[[\"country\", 'continent', 'year']]\n",
        "\n",
        "print(type(subset_df)) \n",
        "\n",
        "print(subset_df.head())\n",
        "\n",
        "print(subset_df.tail())\n"
      ],
      "metadata": {
        "id": "vx3YfeBzjy-E"
      },
      "execution_count": null,
      "outputs": []
    },
    {
      "cell_type": "code",
      "source": [
        "\n",
        "print(df2.head())"
      ],
      "metadata": {
        "id": "9h0gsYqvICr7"
      },
      "execution_count": null,
      "outputs": []
    },
    {
      "cell_type": "markdown",
      "source": [
        "**[숙제12]** country      Afghanistan\n",
        "continent           Asia\n",
        "year                1952\n",
        "lifeExp           28.801\n",
        "pop              8425333\n",
        "gdpPercap     779.445314\n",
        "Name: 0, dtype: object"
      ],
      "metadata": {
        "id": "2KDGnUZczV48"
      }
    },
    {
      "cell_type": "code",
      "source": [
        "print(df2.loc[0])    "
      ],
      "metadata": {
        "id": "vnLqJt7Lkwr4"
      },
      "execution_count": null,
      "outputs": []
    },
    {
      "cell_type": "markdown",
      "source": [
        "**[숙제13]** country      Afghanistan\n",
        "continent           Asia\n",
        "year                1952\n",
        "lifeExp           28.801\n",
        "pop              8425333\n",
        "gdpPercap     779.445314\n",
        "Name: 0, dtype: object\n"
      ],
      "metadata": {
        "id": "CFXz_lawzbKs"
      }
    },
    {
      "cell_type": "code",
      "source": [
        "print(df2.iloc[0])"
      ],
      "metadata": {
        "id": "qBbvTS9aIzpT"
      },
      "execution_count": null,
      "outputs": []
    },
    {
      "cell_type": "markdown",
      "source": [
        "**[숙제14]** (1704, 6)\n",
        "country        Zimbabwe\n",
        "continent        Africa\n",
        "year               2007\n",
        "lifeExp          43.487\n",
        "pop            12311143\n",
        "gdpPercap    469.709298\n",
        "Name: 1703, dtype: object\n",
        " \n",
        "또 다른 방법, tail(n=1)\n",
        "       country continent  year  lifeExp       pop   gdpPercap\n",
        "1703  Zimbabwe    Africa  2007   43.487  12311143  469.709298"
      ],
      "metadata": {
        "id": "nNKNnqKdzh7u"
      }
    },
    {
      "cell_type": "code",
      "source": [
        "number_rows = df2.shape[0]\n",
        "\n",
        "print(df2.shape)\n",
        "\n",
        "last_row_index = number_rows - 1\n",
        "\n",
        "print(df2.loc[last_row_index])\n",
        "\n",
        "\n",
        "print(\" \")\n",
        "\n",
        "## 또 다른 방법, tail(n=1)\n",
        "\n",
        "print(\"또 다른 방법, tail(n=1)\")\n",
        "\n",
        "print(df2.tail(n=1))"
      ],
      "metadata": {
        "id": "theI1UaYMpaN"
      },
      "execution_count": null,
      "outputs": []
    },
    {
      "cell_type": "markdown",
      "source": [
        "**[숙제15]**        country continent  year  lifeExp       pop    gdpPercap\n",
        "0   Afghanistan      Asia  1952   28.801   8425333   779.445314\n",
        "20      Albania    Europe  1992   71.581   3326498  2497.437901\n",
        "30      Algeria    Africa  1982   61.368  20033753  5745.160213\n"
      ],
      "metadata": {
        "id": "JhWyMSKzzjqi"
      }
    },
    {
      "cell_type": "code",
      "source": [
        "print(df2.loc[[0,20,30]]) \n",
        "\n"
      ],
      "metadata": {
        "id": "uQ0eM6AfNf4Y"
      },
      "execution_count": null,
      "outputs": []
    },
    {
      "cell_type": "markdown",
      "source": [
        "**[숙제16]**        country continent  year  lifeExp       pop   gdpPercap\n",
        "0  Afghanistan      Asia  1952   28.801   8425333  779.445314\n",
        "1  Afghanistan      Asia  1957   30.332   9240934  820.853030\n",
        "2  Afghanistan      Asia  1962   31.997  10267083  853.100710\n",
        "3  Afghanistan      Asia  1967   34.020  11537966  836.197138\n",
        "4  Afghanistan      Asia  1972   36.088  13079460  739.981106"
      ],
      "metadata": {
        "id": "2sp9sg5jzljL"
      }
    },
    {
      "cell_type": "code",
      "source": [
        "print(df2.loc[0:4])"
      ],
      "metadata": {
        "id": "VFLyF2gtwoVj"
      },
      "execution_count": null,
      "outputs": []
    },
    {
      "cell_type": "markdown",
      "source": [
        "**[숙제17]** 코랩에 돌려보니 진짜로 i loc[-1]만 가능 하다는 것을 확인 하였다. 그 이유는, 인터넷에 검색한 결과, 인덱스가 문자열일때 loc[]을 사용하고 인덱스가 그 이외의 경우일 때 i loc[]을 사용한다는 규칙이 있기 때문에 그렇다는 것을 알게 되었다."
      ],
      "metadata": {
        "id": "pYPQO6v2znRc"
      }
    },
    {
      "cell_type": "code",
      "source": [
        "## iloc[-1]는 가능, loc[-1]는 불가능\n",
        "\n",
        "\n",
        "print(df2.iloc[-1])\n",
        "\n",
        "print(df2.loc[-1])"
      ],
      "metadata": {
        "id": "2ChPHgtOW1FG"
      },
      "execution_count": null,
      "outputs": []
    },
    {
      "cell_type": "markdown",
      "source": [
        "**[숙제18]** /content\n",
        "['.config', 'sample_data']\n",
        "   year       pop\n",
        "0  1952   8425333\n",
        "1  1957   9240934\n",
        "2  1962  10267083\n",
        "3  1967  11537966\n",
        "4  1972  13079460\n",
        "   year       pop   gdpPercap\n",
        "0  1952   8425333  779.445314\n",
        "1  1957   9240934  820.853030\n",
        "2  1962  10267083  853.100710\n",
        "3  1967  11537966  836.197138\n",
        "4  1972  13079460  739.981106"
      ],
      "metadata": {
        "id": "CwYuzZ4lzwqj"
      }
    },
    {
      "cell_type": "code",
      "source": [
        "subset1 = df2.loc[:,['year' ,'pop']]\n",
        "\n",
        "print(subset1.head() )\n",
        "\n",
        "\n",
        "subset2 = df2.iloc[:,[2,4,-1]]\n",
        "\n",
        "print(subset2.head() )"
      ],
      "metadata": {
        "id": "IfE75fAGY_w-"
      },
      "execution_count": null,
      "outputs": []
    },
    {
      "cell_type": "markdown",
      "source": [
        "**[숙제19]** /content\n",
        "['.config', 'sample_data']\n",
        "       country  year       pop\n",
        "0  Afghanistan  1952   8425333\n",
        "1  Afghanistan  1957   9240934\n",
        "2  Afghanistan  1962  10267083\n",
        "3  Afghanistan  1967  11537966\n",
        "4  Afghanistan  1972  13079460\n",
        "       country  year       pop\n",
        "0  Afghanistan  1952   8425333\n",
        "1  Afghanistan  1957   9240934\n",
        "2  Afghanistan  1962  10267083\n",
        "3  Afghanistan  1967  11537966\n",
        "4  Afghanistan  1972  13079460"
      ],
      "metadata": {
        "id": "rHGOvnWKz7SU"
      }
    },
    {
      "cell_type": "code",
      "source": [
        "subset3 = df2.iloc[:,range(0,6,2)]\n",
        "\n",
        "print(subset3.head() )\n",
        "\n",
        "subset4 = df2.iloc[:, 0:6:2]\n",
        "\n",
        "print(subset4.head() )\n"
      ],
      "metadata": {
        "id": "U0V-OkztbTjd"
      },
      "execution_count": null,
      "outputs": []
    },
    {
      "cell_type": "markdown",
      "source": [
        "**[숙제20]** /content\n",
        "['.config', 'sample_data']\n",
        "         country  lifeExp    gdpPercap\n",
        "0    Afghanistan   28.801   779.445314\n",
        "99    Bangladesh   43.453   721.186086\n",
        "999     Mongolia   51.253  1226.041130\n",
        "        country  lifeExp    gdpPercap\n",
        "10  Afghanistan   42.129   726.734055\n",
        "11  Afghanistan   43.828   974.580338\n",
        "12      Albania   55.230  1601.056136\n",
        "13      Albania   59.280  1942.284244"
      ],
      "metadata": {
        "id": "bmXPajiu0BPs"
      }
    },
    {
      "cell_type": "code",
      "source": [
        "print(df2.iloc[[0,99,999],[0,3,5]])  \n",
        "\n",
        "print(df2.loc[10:13,['country','lifeExp','gdpPercap']])"
      ],
      "metadata": {
        "id": "ANamAXiXEsfv"
      },
      "execution_count": null,
      "outputs": []
    },
    {
      "cell_type": "markdown",
      "source": [
        "**[숙제21]** /content\n",
        "['.config', 'sample_data']\n",
        "       country continent  year  lifeExp       pop   gdpPercap\n",
        "0  Afghanistan      Asia  1952   28.801   8425333  779.445314\n",
        "1  Afghanistan      Asia  1957   30.332   9240934  820.853030\n",
        "2  Afghanistan      Asia  1962   31.997  10267083  853.100710\n",
        "3  Afghanistan      Asia  1967   34.020  11537966  836.197138\n",
        "4  Afghanistan      Asia  1972   36.088  13079460  739.981106\n",
        "5  Afghanistan      Asia  1977   38.438  14880372  786.113360\n",
        "6  Afghanistan      Asia  1982   39.854  12881816  978.011439\n",
        "7  Afghanistan      Asia  1987   40.822  13867957  852.395945\n",
        "8  Afghanistan      Asia  1992   41.674  16317921  649.341395\n",
        "9  Afghanistan      Asia  1997   41.763  22227415  635.341351\n",
        "year\n",
        "1952    49.057620\n",
        "1957    51.507401\n",
        "1962    53.609249\n",
        "1967    55.678290\n",
        "1972    57.647386\n",
        "1977    59.570157\n",
        "1982    61.533197\n",
        "1987    63.212613\n",
        "1992    64.160338\n",
        "1997    65.014676\n",
        "2002    65.694923\n",
        "2007    67.007423\n",
        "Name: lifeExp, dtype: float64 "
      ],
      "metadata": {
        "id": "WDn6RW4H0CcP"
      }
    },
    {
      "cell_type": "code",
      "source": [
        "### groupby()\n",
        "\n",
        "print(df2.head(n=10))\n",
        "\n",
        "\n",
        "print(df2.groupby('year')['lifeExp'].mean())"
      ],
      "metadata": {
        "id": "uotyvwnRF8gC"
      },
      "execution_count": null,
      "outputs": []
    },
    {
      "cell_type": "markdown",
      "source": [
        "**[숙제22]** /content\n",
        "['.config', 'sample_data']\n",
        "<pandas.core.groupby.generic.DataFrameGroupBy object at 0x7f76e3ccc730>\n",
        "year\n",
        "1952    49.057620\n",
        "1957    51.507401\n",
        "1962    53.609249\n",
        "1967    55.678290\n",
        "1972    57.647386\n",
        "1977    59.570157\n",
        "1982    61.533197\n",
        "1987    63.212613\n",
        "1992    64.160338\n",
        "1997    65.014676\n",
        "2002    65.694923\n",
        "2007    67.007423\n",
        "Name: lifeExp, dtype: float64"
      ],
      "metadata": {
        "id": "MPKXEUvt0Fkz"
      }
    },
    {
      "cell_type": "code",
      "source": [
        "### 위의 코드를 풀어서 설명하면...\n",
        "\n",
        "df2_groupby_year = df2.groupby('year')\n",
        "print(df2_groupby_year)\n",
        "##print(df2_groupby_year.head())\n",
        "\n",
        "too_long = df2_groupby_year['lifeExp']\n",
        "\n",
        "too_long.mean()\n",
        "\n"
      ],
      "metadata": {
        "id": "3Jl_OS9lLT1K"
      },
      "execution_count": null,
      "outputs": []
    },
    {
      "cell_type": "markdown",
      "source": [
        "**[숙제23]** /content\n",
        "['.config', 'sample_data']\n",
        "continent\n",
        "Africa      52\n",
        "Americas    25\n",
        "Asia        33\n",
        "Europe      30\n",
        "Oceania      2\n",
        "Name: country, dtype: int64\n",
        "\n",
        "이것은 매우 중요합니다."
      ],
      "metadata": {
        "id": "nuIx4RVvw3pn"
      }
    },
    {
      "cell_type": "code",
      "source": [
        "print(df2.groupby('continent')['country'].nunique())"
      ],
      "metadata": {
        "id": "tJX-we2yM9q9"
      },
      "execution_count": null,
      "outputs": []
    },
    {
      "cell_type": "markdown",
      "source": [
        "**[숙제24]** year\n",
        "1952    49.057620\n",
        "1957    51.507401\n",
        "1962    53.609249\n",
        "1967    55.678290\n",
        "1972    57.647386\n",
        "1977    59.570157\n",
        "1982    61.533197\n",
        "1987    63.212613\n",
        "1992    64.160338\n",
        "1997    65.014676\n",
        "2002    65.694923\n",
        "2007    67.007423\n",
        "Name: lifeExp, dtype: float64\n",
        "\n",
        "[<matplotlib.lines.Line2D at 0x7f76e127eac0>]\n"
      ],
      "metadata": {
        "id": "23S7_LaD0Q9y"
      }
    },
    {
      "cell_type": "code",
      "source": [
        "### matplotlib inline <==jupyter notebook용 그래프그리기 __매직함수magic method__\n",
        "\n",
        "\n",
        "import matplotlib.pyplot as plt\n",
        "\n",
        "year_lifeExpectancy = df2.groupby('year')['lifeExp'].mean()\n",
        "\n",
        "print(year_lifeExpectancy)\n",
        "\n",
        "year_lifeExpectancy.plot()\n",
        "\n",
        "plt.show()\n",
        "\n",
        "plt.plot(year_lifeExpectancy,'or')"
      ],
      "metadata": {
        "id": "n69mE3DRNZqC"
      },
      "execution_count": null,
      "outputs": []
    },
    {
      "cell_type": "markdown",
      "source": [
        "**[숙제25]** 0      와\n",
        "1     어이\n",
        "2    123\n",
        "dtype: object\n",
        "\n",
        "감탄사     우와\n",
        "명사     자동차\n",
        "숫자     123\n",
        "dtype: object"
      ],
      "metadata": {
        "id": "GMmF9JPm0Tvw"
      }
    },
    {
      "cell_type": "code",
      "source": [
        "import pandas as pd\n",
        "\n",
        "A_series = pd.Series(['와','어이',123 ])\n",
        "\n",
        "print(A_series)\n",
        "\n",
        "print('')\n",
        "\n",
        "B_series = pd.Series(['우와','자동차',123 ], index = [\"감탄사\",\"명사\", '숫자'])\n",
        "\n",
        "print(B_series)"
      ],
      "metadata": {
        "id": "r-VoXa-Jn0bT"
      },
      "execution_count": null,
      "outputs": []
    },
    {
      "cell_type": "markdown",
      "source": [
        "**[숙제26]** /content\n",
        "['.config', 'sample_data']\n",
        "    이름  키(m)  몸무게  인기\n",
        "0  뽀로로   1.2  가벼움  많음\n",
        "1   포비   2.1  무거움  보통\n",
        "2   에디   1.4   보통  보통"
      ],
      "metadata": {
        "id": "fMdgWHOu0Vca"
      }
    },
    {
      "cell_type": "code",
      "source": [
        "\n",
        "A_D_frame = pd.DataFrame({ \n",
        "    '이름':['뽀로로', '포비', '에디' ],\n",
        "    '키(m)':[1.2 , 2.1, 1.4],\n",
        "    '몸무게': ['가벼움', '무거움', '보통'],\n",
        "    '인기': ['많음', '보통', '보통']}\n",
        ")\n",
        "\n",
        "print(A_D_frame)\n"
      ],
      "metadata": {
        "id": "YeTPCJJJpPGs"
      },
      "execution_count": null,
      "outputs": []
    },
    {
      "cell_type": "markdown",
      "source": [
        "**[숙제27]**      키(m)  몸무게  인기\n",
        "뽀로로   1.2  가벼움  많음\n",
        "포비    2.1  무거움  보통\n",
        "에디    1.4   보통  보통"
      ],
      "metadata": {
        "id": "3S8kV1w80YUG"
      }
    },
    {
      "cell_type": "code",
      "source": [
        "\n",
        "\n",
        "B_D_frame = pd.DataFrame(\n",
        "    data={ '키(m)':[1.2 , 2.1, 1.4],\n",
        "          '몸무게': ['가벼움', '무거움', '보통'],\n",
        "          '인기': ['많음', '보통', '보통']},\n",
        "    index= ['뽀로로', '포비', '에디'],\n",
        "    columns=[\"키(m)\",\"몸무게\",\"인기\"]\n",
        ")\n",
        "\n",
        "print(B_D_frame)\n"
      ],
      "metadata": {
        "id": "Tt1FZQiIrDvo"
      },
      "execution_count": null,
      "outputs": []
    },
    {
      "cell_type": "markdown",
      "source": [
        "**[숙제28]**     이름  키(m)  몸무게  인기\n",
        "0  뽀로로   1.2  가벼움  많음\n",
        "1   포비   2.1  무거움  보통\n",
        "2   에디   1.4   보통  보통"
      ],
      "metadata": {
        "id": "xSBjuGDL0a7X"
      }
    },
    {
      "cell_type": "code",
      "source": [
        "\n",
        "\n",
        "from collections import OrderedDict\n",
        "\n",
        "C_D_frame = pd.DataFrame(OrderedDict([\n",
        "    ('이름',['뽀로로', '포비', '에디' ]),\n",
        "    ('키(m)',[1.2 , 2.1, 1.4]),\n",
        "    ('몸무게', ['가벼움', '무거움', '보통']),\n",
        "    ('인기', ['많음', '보통', '보통'])\n",
        "])\n",
        ")\n",
        "\n",
        "print(C_D_frame)"
      ],
      "metadata": {
        "id": "kwgBvdrosFMk"
      },
      "execution_count": null,
      "outputs": []
    },
    {
      "cell_type": "markdown",
      "source": [
        "**[숙제29]** 키(m)    1.2\n",
        "몸무게     가벼움\n",
        "인기       많음\n",
        "Name: 뽀로로, dtype: object\n"
      ],
      "metadata": {
        "id": "HZa28ire0dLQ"
      }
    },
    {
      "cell_type": "code",
      "source": [
        "D_D_frame = pd.DataFrame(\n",
        "    data={ '키(m)':[1.2 , 2.1, 1.4],\n",
        "          '몸무게': ['가벼움', '무거움', '보통'],\n",
        "          '인기': ['많음', '보통', '보통']},\n",
        "    index= ['뽀로로', '포비', '에디'],\n",
        "    columns=[\"키(m)\",\"몸무게\",\"인기\"]\n",
        ")\n",
        "\n",
        "first_row = D_D_frame.loc['뽀로로']\n",
        "\n",
        "print(first_row)"
      ],
      "metadata": {
        "id": "yXZREp1ii5lE"
      },
      "execution_count": null,
      "outputs": []
    },
    {
      "cell_type": "markdown",
      "source": [
        "**[숙제30]** Index(['키(m)', '몸무게', '인기'], dtype='object')"
      ],
      "metadata": {
        "id": "ZU1Vc4xO0gH3"
      }
    },
    {
      "cell_type": "code",
      "source": [
        "\n",
        "\n",
        "print(first_row.index)"
      ],
      "metadata": {
        "id": "5O3VN-F9m4tm"
      },
      "execution_count": null,
      "outputs": []
    },
    {
      "cell_type": "markdown",
      "source": [
        "**[숙제31]** [1.2 '가벼움' '많음']"
      ],
      "metadata": {
        "id": "inzM6TGl0jJ2"
      }
    },
    {
      "cell_type": "code",
      "source": [
        "print(first_row.values)\n",
        "\n"
      ],
      "metadata": {
        "id": "M2rZVb-lxTl2"
      },
      "execution_count": null,
      "outputs": []
    },
    {
      "cell_type": "markdown",
      "source": [
        "**[숙제32]** Index(['키(m)', '몸무게', '인기'], dtype='object')"
      ],
      "metadata": {
        "id": "vZEkxUoX0k7Y"
      }
    },
    {
      "cell_type": "code",
      "source": [
        "print(first_row.keys())\n",
        "\n"
      ],
      "metadata": {
        "id": "rJNowyQWxVoA"
      },
      "execution_count": null,
      "outputs": []
    },
    {
      "cell_type": "markdown",
      "source": [
        "**[숙제33]** 키(m)\n",
        "몸무게\n",
        "가벼움"
      ],
      "metadata": {
        "id": "qLMaWsq90nCU"
      }
    },
    {
      "cell_type": "code",
      "source": [
        "print(first_row.index[0])\n",
        "\n",
        "print(first_row.keys()[1])\n",
        "\n",
        "print(first_row.values[1])"
      ],
      "metadata": {
        "id": "UWHNoCvDxdP5"
      },
      "execution_count": null,
      "outputs": []
    },
    {
      "cell_type": "markdown",
      "source": [
        "**[숙제34]** 뽀로로    1.2\n",
        "포비     2.1\n",
        "에디     1.4\n",
        "Name: 키(m), dtype: float64\n",
        "2.1\n",
        "1.2\n",
        "1.5666666666666664\n",
        "0.4725815626252609"
      ],
      "metadata": {
        "id": "g8-ju8LT0oCb"
      }
    },
    {
      "cell_type": "code",
      "source": [
        "height=D_D_frame['키(m)']\n",
        "\n",
        "print(height)\n",
        "\n",
        "print(height.max())\n",
        "\n",
        "print(height.min())\n",
        "\n",
        "print(height.mean())\n",
        "\n",
        "print(height.std())  # standard deviation = std"
      ],
      "metadata": {
        "id": "gG1cZ4FEoADG"
      },
      "execution_count": null,
      "outputs": []
    },
    {
      "cell_type": "markdown",
      "source": [
        "**[숙제35]** Name\tBorn\tDied\tAge\tOccupation\n",
        "0\tRosaline Franklin\t1920-07-25\t1958-04-16\t37\tChemist\n",
        "1\tWilliam Gosset\t1876-06-13\t1937-10-16\t61\tStatistician\n",
        "2\tFlorence Nightingale\t1820-05-12\t1910-08-13\t90\tNurse\n",
        "3\tMarie Curie\t1867-11-07\t1934-07-04\t66\tChemist\n",
        "4\tRachel Carson\t1907-05-27\t1964-04-14\t56\tBiologist\n",
        "5\tJohn Snow\t1813-03-15\t1858-06-16\t45\tPhysician\n",
        "6\tAlan Turing\t1912-06-23\t1954-06-07\t41\tComputer Scientist\n",
        "7\tJohann Gauss\t1777-04-30\t1855-02-23\t77\tMathematician"
      ],
      "metadata": {
        "id": "fPtTFvWP0qOc"
      }
    },
    {
      "cell_type": "code",
      "source": [
        "import pandas as pd\n",
        "\n",
        "targetUrl_sci= \"https://raw.githubusercontent.com/gundaminpde/2022/main/scientists.csv\"\n",
        "\n",
        "scientists = pd.read_csv(targetUrl_sci)\n",
        "\n",
        "scientists.head(n=10)\n"
      ],
      "metadata": {
        "id": "gnbJBvBTtZvg"
      },
      "execution_count": null,
      "outputs": []
    },
    {
      "cell_type": "markdown",
      "source": [
        "**[숙제36]** 90\n",
        "59.125"
      ],
      "metadata": {
        "id": "FZpp0GOX0rtq"
      }
    },
    {
      "cell_type": "code",
      "source": [
        "ages = scientists['Age']\n",
        "\n",
        "print(ages.max())\n",
        "print(ages.mean())\n",
        "\n"
      ],
      "metadata": {
        "id": "4jA4EnjNwmor"
      },
      "execution_count": null,
      "outputs": []
    },
    {
      "cell_type": "markdown",
      "source": [
        "**[숙제37]** 1    61\n",
        "2    90\n",
        "3    66\n",
        "7    77\n",
        "Name: Age, dtype: int64\n",
        "0    False\n",
        "1     True\n",
        "2     True\n",
        "3     True\n",
        "4    False\n",
        "5    False\n",
        "6    False\n",
        "7     True\n",
        "Name: Age, dtype: bool\n",
        "\n",
        "아주 중요해요."
      ],
      "metadata": {
        "id": "F_l7vPwz0tRz"
      }
    },
    {
      "cell_type": "code",
      "source": [
        "print(ages[ages > ages.mean()])\n",
        "\n",
        "print(ages > ages.mean())"
      ],
      "metadata": {
        "id": "-XwpKfZ9xlwz"
      },
      "execution_count": null,
      "outputs": []
    },
    {
      "cell_type": "markdown",
      "source": [
        "**[숙제38]**                    Name        Born        Died  Age      Occupation\n",
        "1        William Gosset  1876-06-13  1937-10-16   61    Statistician\n",
        "2  Florence Nightingale  1820-05-12  1910-08-13   90           Nurse\n",
        "3           Marie Curie  1867-11-07  1934-07-04   66         Chemist\n",
        "7          Johann Gauss  1777-04-30  1855-02-23   77  Mathematician \n",
        "\n",
        "아주 중요해요."
      ],
      "metadata": {
        "id": "pd0v-N110vRr"
      }
    },
    {
      "cell_type": "code",
      "source": [
        "print(scientists[ scientists['Age'] > scientists['Age'].mean() ]) ## 불린 추출"
      ],
      "metadata": {
        "id": "iBhbzCOXzH_F"
      },
      "execution_count": null,
      "outputs": []
    },
    {
      "cell_type": "markdown",
      "source": [
        "**[39]** 0    37\n",
        "1    61\n",
        "2    90\n",
        "3    66\n",
        "4    56\n",
        "5    45\n",
        "6    41\n",
        "7    77\n",
        "Name: Age, dtype: int64\n",
        "object\n",
        "object"
      ],
      "metadata": {
        "id": "NG1QcpBO036Z"
      }
    },
    {
      "cell_type": "code",
      "source": [
        "print(scientists['Age'])\n",
        "\n",
        "print(scientists['Born'].dtype) \n",
        "\n",
        "print(scientists['Died'].dtype)"
      ],
      "metadata": {
        "id": "4C1GttV7E0wI"
      },
      "execution_count": null,
      "outputs": []
    },
    {
      "cell_type": "markdown",
      "source": [
        "**[숙제40]** 0   1920-07-25\n",
        "1   1876-06-13\n",
        "2   1820-05-12\n",
        "3   1867-11-07\n",
        "4   1907-05-27\n",
        "5   1813-03-15\n",
        "6   1912-06-23\n",
        "7   1777-04-30\n",
        "Name: Born, dtype: datetime64[ns]\n",
        "0    07/25/1920\n",
        "1    06/13/1876\n",
        "2    05/12/1820\n",
        "3    11/07/1867\n",
        "4    05/27/1907\n",
        "5    03/15/1813\n",
        "6    06/23/1912\n",
        "7    04/30/1777\n",
        "Name: Born, dtype: object\n",
        "\n",
        "\n",
        "날짜에 관한 것입니다. 유의하세요."
      ],
      "metadata": {
        "id": "ZC-KZEsZ0_L_"
      }
    },
    {
      "cell_type": "code",
      "source": [
        "\n",
        "\n",
        "born_datetime = pd.to_datetime(scientists['Born'],format='%Y-%m-%d')\n",
        "\n",
        "print(born_datetime)\n",
        "\n",
        "changed_one=born_datetime.dt.strftime('%m/%d/%Y')\n",
        "\n",
        "print(changed_one)\n",
        "\n"
      ],
      "metadata": {
        "id": "mYtDG30VGIo3"
      },
      "execution_count": null,
      "outputs": []
    },
    {
      "cell_type": "markdown",
      "source": [
        "**[숙제41]** 0   1958-04-16\n",
        "1   1937-10-16\n",
        "2   1910-08-13\n",
        "3   1934-07-04\n",
        "4   1964-04-14\n",
        "5   1858-06-16\n",
        "6   1954-06-07\n",
        "7   1855-02-23\n",
        "Name: Died, dtype: datetime64[ns]\n",
        "                   Name        Born        Died  Age    Occupation    Born_dt  \\\n",
        "0     Rosaline Franklin  1920-07-25  1958-04-16   37       Chemist 1920-07-25   \n",
        "1        William Gosset  1876-06-13  1937-10-16   61  Statistician 1876-06-13   \n",
        "2  Florence Nightingale  1820-05-12  1910-08-13   90         Nurse 1820-05-12   \n",
        "3           Marie Curie  1867-11-07  1934-07-04   66       Chemist 1867-11-07   \n",
        "4         Rachel Carson  1907-05-27  1964-04-14   56     Biologist 1907-05-27   \n",
        "\n",
        "     Died_dt  \n",
        "0 1958-04-16  \n",
        "1 1937-10-16  \n",
        "2 1910-08-13  \n",
        "3 1934-07-04  \n",
        "4 1964-04-14  "
      ],
      "metadata": {
        "id": "1O_GYKHh1EuJ"
      }
    },
    {
      "cell_type": "code",
      "source": [
        "\n",
        "died_datatime = pd.to_datetime(scientists['Died'],format='%Y-%m-%d')\n",
        "\n",
        "print(died_datatime)\n",
        "\n",
        "scientists['Born_dt'], scientists['Died_dt'] = (born_datetime, died_datatime)\n",
        "\n",
        "\n",
        "print(scientists.head())\n",
        "\n"
      ],
      "metadata": {
        "id": "LXTrLNcH0hKk"
      },
      "execution_count": null,
      "outputs": []
    },
    {
      "cell_type": "markdown",
      "source": [
        "**[숙제42]**                    Name        Born        Died  Age          Occupation  \\\n",
        "0     Rosaline Franklin  1920-07-25  1958-04-16   37             Chemist   \n",
        "1        William Gosset  1876-06-13  1937-10-16   61        Statistician   \n",
        "2  Florence Nightingale  1820-05-12  1910-08-13   90               Nurse   \n",
        "3           Marie Curie  1867-11-07  1934-07-04   66             Chemist   \n",
        "4         Rachel Carson  1907-05-27  1964-04-14   56           Biologist   \n",
        "5             John Snow  1813-03-15  1858-06-16   45           Physician   \n",
        "6           Alan Turing  1912-06-23  1954-06-07   41  Computer Scientist   \n",
        "7          Johann Gauss  1777-04-30  1855-02-23   77      Mathematician    \n",
        "\n",
        "     Born_dt    Died_dt  life_days  \n",
        "0 1920-07-25 1958-04-16 13779 days  \n",
        "1 1876-06-13 1937-10-16 22404 days  \n",
        "2 1820-05-12 1910-08-13 32964 days  \n",
        "3 1867-11-07 1934-07-04 24345 days  \n",
        "4 1907-05-27 1964-04-14 20777 days  \n",
        "5 1813-03-15 1858-06-16 16529 days  \n",
        "6 1912-06-23 1954-06-07 15324 days  \n",
        "7 1777-04-30 1855-02-23 28422 days  "
      ],
      "metadata": {
        "id": "qgEz_JwR1Gqz"
      }
    },
    {
      "cell_type": "code",
      "source": [
        "scientists['life_days'] =  scientists['Died_dt'] - scientists['Born_dt']\n",
        "\n",
        "print(scientists)"
      ],
      "metadata": {
        "id": "brJk0PdKHNVp"
      },
      "execution_count": null,
      "outputs": []
    },
    {
      "cell_type": "markdown",
      "source": [
        "**[숙제43]** 0    37\n",
        "1    61\n",
        "2    90\n",
        "3    66\n",
        "4    56\n",
        "5    45\n",
        "6    41\n",
        "7    77\n",
        "Name: Age, dtype: int64\n",
        "0    45\n",
        "1    66\n",
        "2    56\n",
        "3    61\n",
        "4    90\n",
        "5    41\n",
        "6    77\n",
        "7    37\n",
        "Name: Age, dtype: int64\n",
        "                   Name        Born        Died  Age\n",
        "0     Rosaline Franklin  1920-07-25  1958-04-16   45\n",
        "1        William Gosset  1876-06-13  1937-10-16   66\n",
        "2  Florence Nightingale  1820-05-12  1910-08-13   56\n",
        "3           Marie Curie  1867-11-07  1934-07-04   61\n",
        "4         Rachel Carson  1907-05-27  1964-04-14   90\n",
        "5             John Snow  1813-03-15  1858-06-16   41\n",
        "6           Alan Turing  1912-06-23  1954-06-07   77\n",
        "7          Johann Gauss  1777-04-30  1855-02-23   37\n",
        "/usr/lib/python3.9/random.py:362: SettingWithCopyWarning: \n",
        "A value is trying to be set on a copy of a slice from a DataFrame\n",
        "\n",
        "See the caveats in the documentation: https://pandas.pydata.org/pandas-docs/stable/user_guide/indexing.html#returning-a-view-versus-a-copy\n",
        "  x[i], x[j] = x[j], x[i]"
      ],
      "metadata": {
        "id": "LzLp9zbb1Hde"
      }
    },
    {
      "cell_type": "code",
      "source": [
        "print(scientists['Age'])\n",
        "\n",
        "import random\n",
        "\n",
        "random.seed(2)\n",
        "\n",
        "random.shuffle(scientists['Age'])\n",
        "\n",
        "print(scientists['Age'])\n",
        "\n",
        "print(scientists.iloc[:,0:4])\n"
      ],
      "metadata": {
        "id": "IPc_d5tfH4rL"
      },
      "execution_count": null,
      "outputs": []
    },
    {
      "cell_type": "markdown",
      "source": [
        "**[숙제44]** /content/sample_data\n",
        "0       Rosaline Franklin\n",
        "1          William Gosset\n",
        "2    Florence Nightingale\n",
        "3             Marie Curie\n",
        "4           Rachel Carson\n",
        "5               John Snow\n",
        "6             Alan Turing\n",
        "7            Johann Gauss\n",
        "Name: Name, dtype: object"
      ],
      "metadata": {
        "id": "8mbswdv-1k4B"
      }
    },
    {
      "cell_type": "code",
      "source": [
        "## 피클로 만들어 저장하고 꺼내오기.\n",
        "\n",
        "import os\n",
        "\n",
        "print(os.getcwd())\n",
        "\n",
        "os.chdir('/content/')\n",
        "\n",
        "names = scientists['Name']\n",
        "\n",
        "names.to_pickle('../content/scientists_names.pickle')\n",
        "\n",
        "return_names = pd.read_pickle('../content//scientists_names.pickle')\n",
        "\n",
        "print(return_names)"
      ],
      "metadata": {
        "id": "ZNEu9PUNIngb"
      },
      "execution_count": null,
      "outputs": []
    },
    {
      "cell_type": "markdown",
      "source": [
        "**[숙제45]** The DataFrame number 1\n",
        "------------------------------\n",
        "    A   B   C   D\n",
        "0  A0  B0  C0  D0\n",
        "1  A1  B1  C1  D1\n",
        "2  A2  B2  C2  D2\n",
        "3  A3  B3  C3  D3\n",
        "\n",
        "The DataFrame number 2\n",
        "------------------------------\n",
        "    A   B   C   D\n",
        "0  A4  B4  C4  D4\n",
        "1  A5  B5  C5  D5\n",
        "2  A6  B6  C6  D6\n",
        "3  A7  B7  C7  D7\n",
        "\n",
        "The DataFrame number 3\n",
        "------------------------------\n",
        "     A    B    C    D\n",
        "0   A8   B8   C8   D8\n",
        "1   A9   B9   C9   D9\n",
        "2  A10  B10  C10  D10\n",
        "3  A11  B11  C11  D11\n",
        "\n",
        "After concatenation along row\n",
        "------------------------------\n",
        "     A    B    C    D\n",
        "0   A0   B0   C0   D0\n",
        "1   A1   B1   C1   D1\n",
        "2   A2   B2   C2   D2\n",
        "3   A3   B3   C3   D3\n",
        "0   A4   B4   C4   D4\n",
        "1   A5   B5   C5   D5\n",
        "2   A6   B6   C6   D6\n",
        "3   A7   B7   C7   D7\n",
        "0   A8   B8   C8   D8\n",
        "1   A9   B9   C9   D9\n",
        "2  A10  B10  C10  D10\n",
        "3  A11  B11  C11  D11\n",
        "\n",
        "After concatenation along column\n",
        "------------------------------------------------------------\n",
        "    A   B   C   D   A   B   C   D    A    B    C    D\n",
        "0  A0  B0  C0  D0  A4  B4  C4  D4   A8   B8   C8   D8\n",
        "1  A1  B1  C1  D1  A5  B5  C5  D5   A9   B9   C9   D9\n",
        "2  A2  B2  C2  D2  A6  B6  C6  D6  A10  B10  C10  D10\n",
        "3  A3  B3  C3  D3  A7  B7  C7  D7  A11  B11  C11  D11\n",
        "\n",
        "매우 중요해요."
      ],
      "metadata": {
        "id": "3wx8dQoUJuDt"
      }
    },
    {
      "cell_type": "code",
      "source": [
        "# Creating data frames\n",
        "df_King = pd.DataFrame({'A': ['A0', 'A1', 'A2', 'A3'],\n",
        "                        'B': ['B0', 'B1', 'B2', 'B3'],\n",
        "                        'C': ['C0', 'C1', 'C2', 'C3'],\n",
        "                        'D': ['D0', 'D1', 'D2', 'D3']},\n",
        "                        index=[0, 1, 2, 3])\n",
        "\n",
        "df_Whang = pd.DataFrame({'A': ['A4', 'A5', 'A6', 'A7'],\n",
        "                        'B': ['B4', 'B5', 'B6', 'B7'],\n",
        "                        'C': ['C4', 'C5', 'C6', 'C7'],\n",
        "                        'D': ['D4', 'D5', 'D6', 'D7']},\n",
        "                         index=[0, 1, 2, 3])\n",
        "\n",
        "df_ZZnag = pd.DataFrame({'A': ['A8', 'A9', 'A10', 'A11'],\n",
        "                        'B': ['B8', 'B9', 'B10', 'B11'],\n",
        "                        'C': ['C8', 'C9', 'C10', 'C11'],\n",
        "                        'D': ['D8', 'D9', 'D10', 'D11']},\n",
        "                        index=[0, 1, 2, 3])\n",
        "\n",
        "print(\"\\nThe DataFrame number 1\\n\",'-'*30, sep='')\n",
        "print(df_King)\n",
        "print(\"\\nThe DataFrame number 2\\n\",'-'*30, sep='')\n",
        "print(df_Whang)\n",
        "print(\"\\nThe DataFrame number 3\\n\",'-'*30, sep='')\n",
        "print(df_ZZnag)\n",
        "\n",
        "### 아래가 하고 싶은 것\n",
        "\n",
        "df_cat_A = pd.concat([df_King,df_Whang,df_ZZnag], axis=0)\n",
        "print(\"\\nAfter concatenation along row\\n\",'-'*30, sep='')\n",
        "print(df_cat_A)\n",
        "\n",
        "df_cat_B = pd.concat([df_King,df_Whang,df_ZZnag], axis=1)\n",
        "print(\"\\nAfter concatenation along column\\n\",'-'*60, sep='')\n",
        "print(df_cat_B)\n"
      ],
      "metadata": {
        "id": "TimXdU3rIQ9O"
      },
      "execution_count": null,
      "outputs": []
    },
    {
      "cell_type": "markdown",
      "source": [
        "**[숙제46]** (150, 6)\n",
        "   ID  Sepal_Length  Sepal_Width  Petal_Length  Petal_Width Species\n",
        "0   1           5.1          3.5           1.4          0.2  setosa\n",
        "1   2           4.9          3.0           1.4          0.2  setosa\n",
        "2   3           4.7          3.2           1.3          0.2  setosa\n",
        "3   4           4.6          3.1           1.5          0.2  setosa\n",
        "4   5           5.0          3.6           1.4          0.2  setosa\n",
        "ID\tSepal_Length\tSepal_Width\tPetal_Length\tPetal_Width\tSpecies\n",
        "145\t146\t6.7\t3.0\t5.2\t2.3\tvirginica\n",
        "146\t147\t6.3\t2.5\t5.0\t1.9\tvirginica\n",
        "147\t148\t6.5\t3.0\t5.2\t2.0\tvirginica\n",
        "148\t149\t6.2\t3.4\t5.4\t2.3\tvirginica\n",
        "149\t150\t5.9\t3.0\t5.1\t1.8\tvirginica"
      ],
      "metadata": {
        "id": "b1Vd9H3f1sH2"
      }
    },
    {
      "cell_type": "code",
      "source": [
        "import seaborn as sns\n",
        "\n",
        "targetUrl_iris=\"https://raw.githubusercontent.com/gundaminpde/2022/main/iris.csv\"\n",
        "\n",
        "irisData = pd.read_csv(targetUrl_iris)\n",
        "\n",
        "print(irisData.shape)\n",
        "\n",
        "print(irisData.head())\n",
        "\n",
        "irisData.tail()"
      ],
      "metadata": {
        "id": "iop1fh39My9q"
      },
      "execution_count": null,
      "outputs": []
    },
    {
      "cell_type": "markdown",
      "source": [
        "**[숙제47]** <Axes: xlabel='Sepal_Length', ylabel='Sepal_Width'>\n"
      ],
      "metadata": {
        "id": "q49qumhk1uCa"
      }
    },
    {
      "cell_type": "code",
      "source": [
        "sns.set_theme()\n",
        "sns.set(rc={\"figure.dpi\":300}) #이미지 품질 설정\n",
        "sns.set(rc={\"figure.figsize\":(6,3)}) ## 크기설정\n",
        "\n",
        "\n",
        "## Scatter plot 산점도\n",
        "\n",
        "sns.scatterplot(x=\"Sepal_Length\", y =\"Sepal_Width\", data=irisData, hue ='Species')"
      ],
      "metadata": {
        "id": "BAK30n_8X8ak"
      },
      "execution_count": null,
      "outputs": []
    },
    {
      "cell_type": "markdown",
      "source": [
        "**[숙제48]** <Axes: xlabel='Count', ylabel='Petal_Length'>\n"
      ],
      "metadata": {
        "id": "z--Uolco1vwF"
      }
    },
    {
      "cell_type": "code",
      "source": [
        "## 히스토그램 histogram\n",
        "\n",
        "sns.histplot( y= \"Petal_Length\", data = irisData)\n"
      ],
      "metadata": {
        "id": "FxivfMEoaekB"
      },
      "execution_count": null,
      "outputs": []
    },
    {
      "cell_type": "markdown",
      "source": [
        "**[숙제49]** <Axes: xlabel='Petal_Length', ylabel='Count'>\n"
      ],
      "metadata": {
        "id": "ZfxxbyF01xDr"
      }
    },
    {
      "cell_type": "code",
      "source": [
        "sns.histplot( x= \"Petal_Length\", data = irisData)"
      ],
      "metadata": {
        "id": "VxyIcQ0dbORD"
      },
      "execution_count": null,
      "outputs": []
    },
    {
      "cell_type": "markdown",
      "source": [
        "**[숙제50]** <Axes: xlabel='Petal_Length', ylabel='Count'>\n",
        "\n"
      ],
      "metadata": {
        "id": "6hL7B1HA1yo3"
      }
    },
    {
      "cell_type": "code",
      "source": [
        "sns.histplot( x= \"Petal_Length\", data = irisData, kde = \"True\")"
      ],
      "metadata": {
        "id": "6FCUgFE4bpB9"
      },
      "execution_count": null,
      "outputs": []
    },
    {
      "cell_type": "markdown",
      "source": [],
      "metadata": {
        "id": "ylKP9S8ha4Sx"
      }
    },
    {
      "cell_type": "markdown",
      "source": [
        "**[숙제51]** <Axes: xlabel='Petal_Length', ylabel='Count'>\n"
      ],
      "metadata": {
        "id": "3TgGyvW111YB"
      }
    },
    {
      "cell_type": "code",
      "source": [
        "sns.histplot( x= \"Petal_Length\", data = irisData, hue = \"Species\")"
      ],
      "metadata": {
        "id": "yCyw1lmYbzFT"
      },
      "execution_count": null,
      "outputs": []
    },
    {
      "cell_type": "markdown",
      "source": [
        "**[숙제52]** <Axes: xlabel='Species', ylabel='Petal_Width'>\n"
      ],
      "metadata": {
        "id": "bynenrwQ13Qp"
      }
    },
    {
      "cell_type": "code",
      "source": [
        "## Barplot : 숫자 변수의 경향 추청치를 보여준다.\n",
        "\n",
        "sns.barplot(x=\"Species\", y=\"Petal_Width\", data =irisData)\n",
        "\n"
      ],
      "metadata": {
        "id": "GzPTo_z4cHSG"
      },
      "execution_count": null,
      "outputs": []
    },
    {
      "cell_type": "markdown",
      "source": [
        "**[숙제53]** <Axes: xlabel='Species', ylabel='Sepal_Length'>\n"
      ],
      "metadata": {
        "id": "nHXli0CL14SP"
      }
    },
    {
      "cell_type": "code",
      "source": [
        "## Box plot\n",
        "\n",
        "sns.boxplot(x=\"Species\", y=\"Sepal_Length\", data=irisData)"
      ],
      "metadata": {
        "id": "ErjPh8qddkCN"
      },
      "execution_count": null,
      "outputs": []
    },
    {
      "cell_type": "code",
      "source": [
        " ## sns.boxplot(x=\"Species\", y=\"Sepal_Length\", data=irisData, hue=\"group\") data에 group이 없다."
      ],
      "metadata": {
        "id": "iuphvhnceFnn"
      },
      "execution_count": null,
      "outputs": []
    }
  ]
}