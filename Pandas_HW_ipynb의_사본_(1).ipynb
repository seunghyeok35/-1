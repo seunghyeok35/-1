{
  "nbformat": 4,
  "nbformat_minor": 0,
  "metadata": {
    "colab": {
      "provenance": []
    },
    "kernelspec": {
      "name": "python3",
      "display_name": "Python 3"
    },
    "language_info": {
      "name": "python"
    }
  },
  "cells": [
    {
      "cell_type": "markdown",
      "source": [
        "# 모두 실행해 보시고, 다음 물음에 답하시길 바랍니다."
      ],
      "metadata": {
        "id": "xVgmFf8u17Mg"
      }
    },
    {
      "cell_type": "markdown",
      "source": [
        "**[숙제 1]** os를 불러오고 os.chdir은 /content/를 제목으로 하는 어떤 함수 같다. os.getcwd는 content를 출력한다.\n",
        "os.listdir()은 ['.config', 'sample_data']를 출력해주는 것 같다. os.chdir('/content/sample_data/')은 content 외에 샘플데이터들도 추가되는 것같다. 이 작업을 하고 os.listdir을 print 해보니 ['README.md', 'anscombe.json', 'california_housing_test.csv', 'mnist_test.csv', 'california_housing_train.csv', 'mnist_train_small.csv']가 출력 되었다. config와 sample data 인것 같다.\n"
      ],
      "metadata": {
        "id": "Jym5zfHtyyH0"
      }
    },
    {
      "cell_type": "code",
      "source": [
        "import os\n",
        "\n",
        "os.chdir('/content/')\n",
        "\n",
        "print(os.getcwd()) \n",
        "\n",
        "print(os.listdir()) \n",
        "\n",
        "os.chdir('/content/sample_data/')\n",
        "\n",
        "print(os.listdir()) \n"
      ],
      "metadata": {
        "id": "FfuaxG025SsF"
      },
      "execution_count": null,
      "outputs": []
    },
    {
      "cell_type": "markdown",
      "source": [
        "**[숙제 2]** 판다스를 불러오고 targetUrl을 어떤 링크로 지정해주고 pd.read_csv()는 링크속 데이터들을 깔끔하게 표로 정리해주는 역할을 하는 명령어다."
      ],
      "metadata": {
        "id": "hTJ5QByyy8vP"
      }
    },
    {
      "cell_type": "code",
      "source": [
        "### 와~ pandas\n",
        "\n",
        "import pandas as pd\n",
        "\n",
        "\n",
        "targetUrl = \"https://raw.githubusercontent.com/gundaminpde/2022/main/gapminder_sample.tsv\"\n",
        "\n",
        "df2 = pd.read_csv(targetUrl, sep='\\t')\n"
      ],
      "metadata": {
        "id": "jwT3_cPO7uVk"
      },
      "execution_count": null,
      "outputs": []
    },
    {
      "cell_type": "markdown",
      "source": [
        "**[숙제 3]** 저 링크속 데이터들에서 앞부분 5개 행만 출력해주는 역할을 하는 것 같다."
      ],
      "metadata": {
        "id": "-XhkmFZky_-_"
      }
    },
    {
      "cell_type": "code",
      "source": [
        "print(df2.head( ))"
      ],
      "metadata": {
        "id": "0Wsf74zeumzj"
      },
      "execution_count": null,
      "outputs": []
    },
    {
      "cell_type": "markdown",
      "source": [],
      "metadata": {
        "id": "Y6AMJujYuuQT"
      }
    },
    {
      "cell_type": "markdown",
      "source": [
        "**[숙제 4]** \n",
        "df2의 type을 말해준다. class (집합류) 인것을 알 수 있고\n",
        "정확히는 pandas.core.frame.dataframe 이다.\n",
        "\n",
        "> 들여쓴 블록\n",
        "\n"
      ],
      "metadata": {
        "id": "0NFSclpYzCax"
      }
    },
    {
      "cell_type": "code",
      "source": [
        "print(type(df2))"
      ],
      "metadata": {
        "id": "sb-7ICDmuu7O"
      },
      "execution_count": null,
      "outputs": []
    },
    {
      "cell_type": "markdown",
      "source": [
        "**[숙제 5]** \n",
        "df2의 모양을 말해주는데 1704개의 행과 6개의 열을 의미하는 것 같다."
      ],
      "metadata": {
        "id": "DTcv1pzbzEVI"
      }
    },
    {
      "cell_type": "code",
      "source": [
        "print(df2.shape)"
      ],
      "metadata": {
        "colab": {
          "base_uri": "https://localhost:8080/"
        },
        "id": "krXTJpk8uzJW",
        "outputId": "cc066f20-ca05-4ab0-b428-320a8ff24d4c"
      },
      "execution_count": null,
      "outputs": [
        {
          "output_type": "stream",
          "name": "stdout",
          "text": [
            "(1704, 6)\n"
          ]
        }
      ]
    },
    {
      "cell_type": "markdown",
      "source": [
        "**[숙제 6]** df2의 열만 출력해주라는 뜻이다."
      ],
      "metadata": {
        "id": "wvEWjXEgzGT8"
      }
    },
    {
      "cell_type": "code",
      "source": [
        "print( df2.columns)\n"
      ],
      "metadata": {
        "id": "eInuiq4lu1Dt"
      },
      "execution_count": null,
      "outputs": []
    },
    {
      "cell_type": "markdown",
      "source": [
        "**[숙제7]**  df2의 6개의 열들이 사물인지 숫자인지 float 인지 등등 구별해주는 것 같다. 즉, 데이터가 어떤 타입인지 알려주는 것 같다."
      ],
      "metadata": {
        "id": "d3b03rMtzJZi"
      }
    },
    {
      "cell_type": "code",
      "source": [
        "print(df2.dtypes)\n"
      ],
      "metadata": {
        "id": "bKNgDqYwu2xS"
      },
      "execution_count": null,
      "outputs": []
    },
    {
      "cell_type": "markdown",
      "source": [
        "**[숙제8]** \n",
        "df2의 열들의 non-null count와 dtype 등 정보를 간단히 알려주는 것 같다.\n",
        "\n"
      ],
      "metadata": {
        "id": "CfnaBnYPzLat"
      }
    },
    {
      "cell_type": "code",
      "source": [
        "print(df2.info())"
      ],
      "metadata": {
        "id": "XR5JICfFu4Y9"
      },
      "execution_count": null,
      "outputs": []
    },
    {
      "cell_type": "markdown",
      "source": [
        "**[숙제9]** 저사이트에서 cloning을 하는 것 같다. 사물들을 열거하고 사물들의 세고 사물들을 압축하고 저 사이트에는 총 9개를 대상으로 했다는 것 같다. pd.read_csv 명령어를 통해 저 사이트의 자료들을 깔끔하게 정리해주는 것 같다.\n",
        "그렇게 해서 5개 행만 출력하는 것 같다."
      ],
      "metadata": {
        "id": "HHTxfxiSzNlb"
      }
    },
    {
      "cell_type": "code",
      "source": [
        "\n",
        "!git clone https://github.com/gundaminpde/chow.git\n",
        "\n",
        "df3 = pd.read_csv(\"./chow/ThoraricSurgery.csv\", sep=',') \n",
        "\n",
        "print(df3.head())\n",
        "\n",
        "\n",
        "\n"
      ],
      "metadata": {
        "id": "MuZ4ODY5rb2G"
      },
      "execution_count": null,
      "outputs": []
    },
    {
      "cell_type": "code",
      "source": [
        "## csv 화일의 기본 형태\n",
        "\n",
        "## [[1행 리스트],[2행 리스트 ],[3행 리스트] ... ] "
      ],
      "metadata": {
        "id": "CUbfsyif_OnX"
      },
      "execution_count": null,
      "outputs": []
    },
    {
      "cell_type": "code",
      "source": [
        "# 판다스 자료형 : 파이썬 자료형 : 설명\n",
        "#  object    : string    : 문자열\n",
        "#  int64     : int       : 정수\n",
        "#   float64  : float     : 소숫점 가진 숫자\n",
        "# datetime64 : datetime  : 파이썬 라이브러리 datetime 반환하는 자료형 (시계열할 때)\n"
      ],
      "metadata": {
        "id": "K1uapEkcf6FF"
      },
      "execution_count": null,
      "outputs": []
    },
    {
      "cell_type": "markdown",
      "source": [
        "**[숙제10]**\n",
        "앞부분에서 5개만 출력하고 \n",
        "countary_df 의 타입과 앞 행 5개 뒤 행 5개를 각각 출력해준다.\n",
        "\n"
      ],
      "metadata": {
        "id": "tGhTsUDqzPZ5"
      }
    },
    {
      "cell_type": "code",
      "source": [
        "\n",
        "print(df2.head())\n",
        "\n",
        "print(\" \")\n",
        "\n",
        "\n",
        "countary_df=df2[\"country\"]\n",
        "print(type(countary_df)) \n",
        "\n",
        "print(countary_df.head())\n",
        "\n",
        "print(countary_df.tail())\n"
      ],
      "metadata": {
        "id": "FXSn4_JNh0On"
      },
      "execution_count": null,
      "outputs": []
    },
    {
      "cell_type": "markdown",
      "source": [
        "**[숙제11]** \n",
        "새로 만든 subset_df의 타입 출력,\n",
        "앞 부분 부터 행 5개 출력,\n",
        "뒷 부분 부터 행 5개 출력 "
      ],
      "metadata": {
        "id": "sEOcwx_yzRxp"
      }
    },
    {
      "cell_type": "code",
      "source": [
        "\n",
        "subset_df=df2[[\"country\", 'continent', 'year']]\n",
        "\n",
        "print(type(subset_df)) \n",
        "\n",
        "print(subset_df.head())\n",
        "\n",
        "print(subset_df.tail())\n"
      ],
      "metadata": {
        "id": "vx3YfeBzjy-E"
      },
      "execution_count": null,
      "outputs": []
    },
    {
      "cell_type": "code",
      "source": [
        "\n",
        "print(df2.head())"
      ],
      "metadata": {
        "id": "9h0gsYqvICr7"
      },
      "execution_count": null,
      "outputs": []
    },
    {
      "cell_type": "markdown",
      "source": [
        "**[숙제12]** \n",
        "앞부분 부터 5개 행 출력,\n",
        "1행만 표로 정리하여 출력"
      ],
      "metadata": {
        "id": "2KDGnUZczV48"
      }
    },
    {
      "cell_type": "code",
      "source": [
        "print(df2.loc[0])    "
      ],
      "metadata": {
        "id": "vnLqJt7Lkwr4"
      },
      "execution_count": null,
      "outputs": []
    },
    {
      "cell_type": "markdown",
      "source": [
        "**[숙제13]** \n",
        "df2,loc[0]과 똑같은 값이 출력되어서 잘 모르겠다."
      ],
      "metadata": {
        "id": "CFXz_lawzbKs"
      }
    },
    {
      "cell_type": "code",
      "source": [
        "print(df2.iloc[0])"
      ],
      "metadata": {
        "id": "qBbvTS9aIzpT"
      },
      "execution_count": null,
      "outputs": []
    },
    {
      "cell_type": "markdown",
      "source": [
        "**[숙제14]** \n",
        "df2는 1704x6 행렬임을 알려주고,\n",
        "맨 마지막 행에 대한 정보를 보기 쉽게 알려준다.\n",
        "df2.tail(n=1) 코드는 맨 마지막 행에 대한 정보를 알려주는 또 다른 방법인 것 같다.\n"
      ],
      "metadata": {
        "id": "nNKNnqKdzh7u"
      }
    },
    {
      "cell_type": "code",
      "source": [
        "number_rows = df2.shape[0]\n",
        "\n",
        "print(df2.shape)\n",
        "\n",
        "last_row_index = number_rows - 1\n",
        "\n",
        "print(df2.loc[last_row_index])\n",
        "\n",
        "\n",
        "print(\" \")\n",
        "\n",
        "## 또 다른 방법, tail(n=1)\n",
        "\n",
        "print(\"또 다른 방법, tail(n=1)\")\n",
        "\n",
        "print(df2.tail(n=1))"
      ],
      "metadata": {
        "id": "theI1UaYMpaN"
      },
      "execution_count": null,
      "outputs": []
    },
    {
      "cell_type": "markdown",
      "source": [
        "**[숙제15]** \n",
        "첫번째 행, 21번째 행, 31번째 행을 각각 출력해주는 코드다.\n"
      ],
      "metadata": {
        "id": "JhWyMSKzzjqi"
      }
    },
    {
      "cell_type": "code",
      "source": [
        "print(df2.loc[[0,20,30]]) \n",
        "\n"
      ],
      "metadata": {
        "id": "uQ0eM6AfNf4Y"
      },
      "execution_count": null,
      "outputs": []
    },
    {
      "cell_type": "markdown",
      "source": [
        "**[숙제16]** \n",
        "첫번째 행 부터 5번째 행까지 출력해주는 코드다."
      ],
      "metadata": {
        "id": "2sp9sg5jzljL"
      }
    },
    {
      "cell_type": "code",
      "source": [
        "print(df2.loc[0:4])"
      ],
      "metadata": {
        "id": "VFLyF2gtwoVj"
      },
      "execution_count": null,
      "outputs": []
    },
    {
      "cell_type": "markdown",
      "source": [
        "**[숙제17]**\n",
        "\n",
        "코랩에 돌려보니 진짜로 i loc[-1]만 가능 하다는 것을 확인 하였다. 그 이유는, 인터넷에 검색한 결과, 인덱스가 문자열일때 loc[]을 사용하고 인덱스가 그 이외의 경우일 때 i loc[]을 사용한다는 규칙이 있기 때문에 그렇다는 것을 알게 되었다."
      ],
      "metadata": {
        "id": "pYPQO6v2znRc"
      }
    },
    {
      "cell_type": "code",
      "source": [
        "## iloc[-1]는 가능, loc[-1]는 불가능\n",
        "\n",
        "\n",
        "print(df2.iloc[-1])\n",
        "\n",
        "print(df2.loc[-1])"
      ],
      "metadata": {
        "id": "2ChPHgtOW1FG"
      },
      "execution_count": null,
      "outputs": []
    },
    {
      "cell_type": "markdown",
      "source": [
        "**[숙제18]** year 하고 pop 부분에 대한 정보만 알려주는 코드이다,\n",
        "앞부분만 5개행 까지 출력하는 코드,\n",
        "df2.iloc 이부분은 3열,5열, 맨 뒷 열에 대한 정보만 출력해주는 코드이고,\n",
        ".head는 이 표를 5개 행까지만 출력해주는 코드."
      ],
      "metadata": {
        "id": "CwYuzZ4lzwqj"
      }
    },
    {
      "cell_type": "code",
      "source": [
        "subset1 = df2.loc[:,['year' ,'pop']]\n",
        "\n",
        "print(subset1.head() )\n",
        "\n",
        "\n",
        "subset2 = df2.iloc[:,[2,4,-1]]\n",
        "\n",
        "print(subset2.head() )"
      ],
      "metadata": {
        "id": "IfE75fAGY_w-"
      },
      "execution_count": null,
      "outputs": []
    },
    {
      "cell_type": "markdown",
      "source": [
        "**[숙제19]** \n",
        "첫 열부터 끝 열까지 2개 간격으로만 출력하고\n",
        "그거의 5개 행만 출력하는 코드이다.\n",
        "그 다음 코드인 iloc 부분 숫자로만 변형시킨거지 똑같은 값을 출력하라는 뜻이다."
      ],
      "metadata": {
        "id": "rHGOvnWKz7SU"
      }
    },
    {
      "cell_type": "code",
      "source": [
        "subset3 = df2.iloc[:,range(0,6,2)]\n",
        "\n",
        "print(subset3.head() )\n",
        "\n",
        "subset4 = df2.iloc[:, 0:6:2]\n",
        "\n",
        "print(subset4.head() )\n"
      ],
      "metadata": {
        "id": "U0V-OkztbTjd"
      },
      "execution_count": null,
      "outputs": []
    },
    {
      "cell_type": "markdown",
      "source": [
        "**[숙제20]** \n",
        "iloc 부분이라 숫자를 쓴 것이고 1행, 100행, 1000행의 1열, 4열, 6열에 대한 정보를 출력하라는 뜻이다.\n",
        "loc 부분이라 문자열이 있는 것이고,\n",
        "11행부터 14행까지의 country, lifeExp, gdpPercap 부분의 정보를 출력한다."
      ],
      "metadata": {
        "id": "bmXPajiu0BPs"
      }
    },
    {
      "cell_type": "code",
      "source": [
        "print(df2.iloc[[0,99,999],[0,3,5]])  \n",
        "\n",
        "print(df2.loc[10:13,['country','lifeExp','gdpPercap']])"
      ],
      "metadata": {
        "id": "ANamAXiXEsfv"
      },
      "execution_count": null,
      "outputs": []
    },
    {
      "cell_type": "markdown",
      "source": [
        "**[숙제21]** \n",
        "앞부분 부터 10개 까지 출력 하라는 뜻이고,\n",
        "다음 코드는 year 에 따른 lifeExp 값의 평균을 출력해주는 것 같다."
      ],
      "metadata": {
        "id": "WDn6RW4H0CcP"
      }
    },
    {
      "cell_type": "code",
      "source": [
        "### groupby()\n",
        "\n",
        "print(df2.head(n=10))\n",
        "\n",
        "\n",
        "print(df2.groupby('year')['lifeExp'].mean())"
      ],
      "metadata": {
        "id": "uotyvwnRF8gC"
      },
      "execution_count": null,
      "outputs": []
    },
    {
      "cell_type": "markdown",
      "source": [
        "**[숙제22]**\n",
        "21번 코드를 풀어서 설명해주는 것 같다. \n",
        "year를 하겠다고 설정하고 year에 따른 계산하고 싶은 값인 lifeExp를 설정하고\n",
        "그리고 lifeExp의 평균을 출력한다. 이 순서대로 짜여진 것 같다."
      ],
      "metadata": {
        "id": "MPKXEUvt0Fkz"
      }
    },
    {
      "cell_type": "code",
      "source": [
        "### 위의 코드를 풀어서 설명하면...\n",
        "\n",
        "df2_groupby_year = df2.groupby('year')\n",
        "print(df2_groupby_year)\n",
        "##print(df2_groupby_year.head())\n",
        "\n",
        "too_long = df2_groupby_year['lifeExp']\n",
        "\n",
        "too_long.mean()\n",
        "\n"
      ],
      "metadata": {
        "id": "3Jl_OS9lLT1K"
      },
      "execution_count": null,
      "outputs": []
    },
    {
      "cell_type": "markdown",
      "source": [
        "**[숙제23]**\n",
        "df2에서 대륙들에 속해져 있는 나라의 수를 알려주는 코드 같다.\n",
        "\n",
        "이것은 매우 중요합니다."
      ],
      "metadata": {
        "id": "nuIx4RVvw3pn"
      }
    },
    {
      "cell_type": "code",
      "source": [
        "print(df2.groupby('continent')['country'].nunique())"
      ],
      "metadata": {
        "id": "tJX-we2yM9q9"
      },
      "execution_count": null,
      "outputs": []
    },
    {
      "cell_type": "markdown",
      "source": [
        "**[숙제24]**\n",
        "matplotlib.pyplot를 불러온다.\n",
        "year_lifeExpectancy: df2의 각 year에 따른 lifeExp의 평균,\n",
        "year에 따른 lifeExp의 그래프 개형 그리기,\n",
        "or 로 표시 한것은 이것을 산점도로 표현 한 것이다."
      ],
      "metadata": {
        "id": "23S7_LaD0Q9y"
      }
    },
    {
      "cell_type": "code",
      "source": [
        "### matplotlib inline <==jupyter notebook용 그래프그리기 __매직함수magic method__\n",
        "\n",
        "\n",
        "import matplotlib.pyplot as plt\n",
        "\n",
        "year_lifeExpectancy = df2.groupby('year')['lifeExp'].mean()\n",
        "\n",
        "print(year_lifeExpectancy)\n",
        "\n",
        "year_lifeExpectancy.plot()\n",
        "\n",
        "plt.show()\n",
        "\n",
        "plt.plot(year_lifeExpectancy,'or')"
      ],
      "metadata": {
        "id": "n69mE3DRNZqC"
      },
      "execution_count": null,
      "outputs": []
    },
    {
      "cell_type": "markdown",
      "source": [
        "**[숙제25]**\n",
        "matplotlib를 불러오기,\n",
        "수열을 행렬모양 처럼 대응 시켜서 나타내기,\n",
        "index를 감탄사들 순서데로 사용하기\n",
        "\n"
      ],
      "metadata": {
        "id": "GMmF9JPm0Tvw"
      }
    },
    {
      "cell_type": "code",
      "source": [
        "import pandas as pd\n",
        "\n",
        "A_series = pd.Series(['와','어이',123 ])\n",
        "\n",
        "print(A_series)\n",
        "\n",
        "print('')\n",
        "\n",
        "B_series = pd.Series(['우와','자동차',123 ], index = [\"감탄사\",\"명사\", '숫자'])\n",
        "\n",
        "print(B_series)"
      ],
      "metadata": {
        "id": "r-VoXa-Jn0bT"
      },
      "execution_count": null,
      "outputs": []
    },
    {
      "cell_type": "markdown",
      "source": [
        "**[숙제26]** \n",
        "pd.datafarame({})은 series의 열을 넓힌 것이다.\n",
        "series가 m×1 모양이었다면, m×n 모양으로도 만들 수 있다."
      ],
      "metadata": {
        "id": "fMdgWHOu0Vca"
      }
    },
    {
      "cell_type": "code",
      "source": [
        "\n",
        "A_D_frame = pd.DataFrame({ \n",
        "    '이름':['뽀로로', '포비', '에디' ],\n",
        "    '키(m)':[1.2 , 2.1, 1.4],\n",
        "    '몸무게': ['가벼움', '무거움', '보통'],\n",
        "    '인기': ['많음', '보통', '보통']}\n",
        ")\n",
        "\n",
        "print(A_D_frame)\n"
      ],
      "metadata": {
        "id": "YeTPCJJJpPGs"
      },
      "execution_count": null,
      "outputs": []
    },
    {
      "cell_type": "markdown",
      "source": [
        "**[숙제27]** \n",
        "26번 코드에서 index를 문자로 바꾼것이다. 즉\n",
        "dataframe({}) 꼴이 아닌,\n",
        "dataframe(x={},y=[],z=[]) 꼴로 나타내면 index도 바꿀 수 있다."
      ],
      "metadata": {
        "id": "3S8kV1w80YUG"
      }
    },
    {
      "cell_type": "code",
      "source": [
        "\n",
        "\n",
        "B_D_frame = pd.DataFrame(\n",
        "    data={ '키(m)':[1.2 , 2.1, 1.4],\n",
        "          '몸무게': ['가벼움', '무거움', '보통'],\n",
        "          '인기': ['많음', '보통', '보통']},\n",
        "    index= ['뽀로로', '포비', '에디'],\n",
        "    columns=[\"키(m)\",\"몸무게\",\"인기\"]\n",
        ")\n",
        "\n",
        "print(B_D_frame)\n"
      ],
      "metadata": {
        "id": "Tt1FZQiIrDvo"
      },
      "execution_count": null,
      "outputs": []
    },
    {
      "cell_type": "markdown",
      "source": [
        "**[숙제28]**\n",
        "숙제 26의 또다른 방식의 코드인 것 같다. 숙제 26과 결과값이 같기 때문이다.\n"
      ],
      "metadata": {
        "id": "xSBjuGDL0a7X"
      }
    },
    {
      "cell_type": "code",
      "source": [
        "\n",
        "\n",
        "from collections import OrderedDict\n",
        "\n",
        "C_D_frame = pd.DataFrame(OrderedDict([\n",
        "    ('이름',['뽀로로', '포비', '에디' ]),\n",
        "    ('키(m)',[1.2 , 2.1, 1.4]),\n",
        "    ('몸무게', ['가벼움', '무거움', '보통']),\n",
        "    ('인기', ['많음', '보통', '보통'])\n",
        "])\n",
        ")\n",
        "\n",
        "print(C_D_frame)"
      ],
      "metadata": {
        "id": "kwgBvdrosFMk"
      },
      "execution_count": null,
      "outputs": []
    },
    {
      "cell_type": "markdown",
      "source": [
        "**[숙제29]** \n",
        "D_D_frame의 첫번째 행만 출력한다."
      ],
      "metadata": {
        "id": "HZa28ire0dLQ"
      }
    },
    {
      "cell_type": "code",
      "source": [
        "D_D_frame = pd.DataFrame(\n",
        "    data={ '키(m)':[1.2 , 2.1, 1.4],\n",
        "          '몸무게': ['가벼움', '무거움', '보통'],\n",
        "          '인기': ['많음', '보통', '보통']},\n",
        "    index= ['뽀로로', '포비', '에디'],\n",
        "    columns=[\"키(m)\",\"몸무게\",\"인기\"]\n",
        ")\n",
        "\n",
        "first_row = D_D_frame.loc['뽀로로']\n",
        "\n",
        "print(first_row)"
      ],
      "metadata": {
        "id": "yXZREp1ii5lE"
      },
      "execution_count": null,
      "outputs": []
    },
    {
      "cell_type": "markdown",
      "source": [
        "**[숙제30]** \n",
        "첫번째 행에 대한 정보의 index를 출력한다."
      ],
      "metadata": {
        "id": "ZU1Vc4xO0gH3"
      }
    },
    {
      "cell_type": "code",
      "source": [
        "\n",
        "\n",
        "print(first_row.index)"
      ],
      "metadata": {
        "id": "5O3VN-F9m4tm"
      },
      "execution_count": null,
      "outputs": []
    },
    {
      "cell_type": "markdown",
      "source": [
        "**[숙제31]** \n",
        "첫번째 행의 인덱스에대한 값들을 출력한다."
      ],
      "metadata": {
        "id": "inzM6TGl0jJ2"
      }
    },
    {
      "cell_type": "code",
      "source": [
        "print(first_row.values)\n",
        "\n",
        "\n"
      ],
      "metadata": {
        "id": "M2rZVb-lxTl2"
      },
      "execution_count": null,
      "outputs": []
    },
    {
      "cell_type": "markdown",
      "source": [
        "**[숙제32]** \n",
        "첫번쨰 행의 index를 출력하는 또다른 표현이다."
      ],
      "metadata": {
        "id": "vZEkxUoX0k7Y"
      }
    },
    {
      "cell_type": "code",
      "source": [
        "print(first_row.keys())\n",
        "\n"
      ],
      "metadata": {
        "id": "rJNowyQWxVoA"
      },
      "execution_count": null,
      "outputs": []
    },
    {
      "cell_type": "markdown",
      "source": [
        "**[숙제33]** \n",
        "첫번째 행의 인덱스의 첫번째를 출력,\n",
        "첫번째 행의 인덱스의 두번째를 출력,\n",
        "첫번째 행의 값들의 2번째를 출력"
      ],
      "metadata": {
        "id": "qLMaWsq90nCU"
      }
    },
    {
      "cell_type": "code",
      "source": [
        "print(first_row.index[0])\n",
        "\n",
        "print(first_row.keys()[1])\n",
        "\n",
        "print(first_row.values[1])"
      ],
      "metadata": {
        "id": "UWHNoCvDxdP5"
      },
      "execution_count": null,
      "outputs": []
    },
    {
      "cell_type": "markdown",
      "source": [
        "**[숙제34]** \n",
        "키(m) 부분에 대한 정보들을 출력한다. 당연히 캐릭터 이름이 인덱스가 될 것이고 수치가 값이 된다. \n",
        ".max는 height의 최댓값을, min는 heigt의 최솟값을 출력한다.\n",
        ".mean()은 평균을,\n",
        ".std()는 표준편차를 출력한다."
      ],
      "metadata": {
        "id": "g8-ju8LT0oCb"
      }
    },
    {
      "cell_type": "code",
      "source": [
        "height=D_D_frame['키(m)']\n",
        "\n",
        "print(height)\n",
        "\n",
        "print(height.max())\n",
        "\n",
        "print(height.min())\n",
        "\n",
        "print(height.mean())\n",
        "\n",
        "print(height.std())  # standard deviation = std"
      ],
      "metadata": {
        "id": "gG1cZ4FEoADG"
      },
      "execution_count": null,
      "outputs": []
    },
    {
      "cell_type": "markdown",
      "source": [
        "**[숙제35]** \n",
        "pd 치면 pandas 불러오게 한다.\n",
        "어떤 단어로 url을 정의해주고,\n",
        "scientists는 아까 정의한 url의 모든 정보를 가져오는 역할이고,\n",
        ".head(n=10)에 의하여 그 url의 위쪽 행부터 10개 까지 출력하게 된다. 근데 url 속에는 8개열까지만 있으므로 8개만 전부 출력된다.\n"
      ],
      "metadata": {
        "id": "fPtTFvWP0qOc"
      }
    },
    {
      "cell_type": "code",
      "source": [
        "import pandas as pd\n",
        "\n",
        "targetUrl_sci= \"https://raw.githubusercontent.com/gundaminpde/2022/main/scientists.csv\"\n",
        "\n",
        "scientists = pd.read_csv(targetUrl_sci)\n",
        "\n",
        "scientists.head(n=10)\n"
      ],
      "metadata": {
        "id": "gnbJBvBTtZvg"
      },
      "execution_count": null,
      "outputs": []
    },
    {
      "cell_type": "markdown",
      "source": [
        "**[숙제36]** \n",
        "Age 부분만 출력,\n",
        "Age 부분의 최댓값을 출력,\n",
        "Age 부분의 평균값을 출력"
      ],
      "metadata": {
        "id": "FZpp0GOX0rtq"
      }
    },
    {
      "cell_type": "code",
      "source": [
        "ages = scientists['Age']\n",
        "\n",
        "print(ages.max())\n",
        "print(ages.mean())\n",
        "\n"
      ],
      "metadata": {
        "id": "4jA4EnjNwmor"
      },
      "execution_count": null,
      "outputs": []
    },
    {
      "cell_type": "markdown",
      "source": [
        "**[숙제37]** \n",
        "Age 부분의 평균보다 높은 값들만 출력,\n",
        "Age 부분을 평균보다 높은애는 True, 낮은애는 False인 \n",
        "bool 형태의 자료를 출력\n",
        "\n",
        "아주 중요해요."
      ],
      "metadata": {
        "id": "F_l7vPwz0tRz"
      }
    },
    {
      "cell_type": "code",
      "source": [
        "print(ages[ages > ages.mean()])\n",
        "\n",
        "print(ages > ages.mean())"
      ],
      "metadata": {
        "id": "-XwpKfZ9xlwz"
      },
      "execution_count": null,
      "outputs": []
    },
    {
      "cell_type": "markdown",
      "source": [
        "**[숙제38]** \n",
        "scientists 표에서 \n",
        "Age가 평균보다 낮은 거를 싹다 지우고 높은 애들만 남겨둔 것이다\n",
        "\n",
        "아주 중요해요."
      ],
      "metadata": {
        "id": "pd0v-N110vRr"
      }
    },
    {
      "cell_type": "code",
      "source": [
        "print(scientists[ scientists['Age'] > scientists['Age'].mean() ]) ## 불린 추출"
      ],
      "metadata": {
        "id": "iBhbzCOXzH_F"
      },
      "execution_count": null,
      "outputs": []
    },
    {
      "cell_type": "markdown",
      "source": [
        "**[39]** \n",
        "scientists의 age부분만 출력,\n",
        "scientists의 born 부분의 dtype을 출력 하는데 둘다 object 이다."
      ],
      "metadata": {
        "id": "NG1QcpBO036Z"
      }
    },
    {
      "cell_type": "code",
      "source": [
        "print(scientists['Age'])\n",
        "\n",
        "print(scientists['Born'].dtype) \n",
        "\n",
        "print(scientists['Died'].dtype)"
      ],
      "metadata": {
        "id": "4C1GttV7E0wI"
      },
      "execution_count": null,
      "outputs": []
    },
    {
      "cell_type": "markdown",
      "source": [
        "**[숙제40]** \n",
        "born 부분만 년월일 순으로 출력,\n",
        "밑에거는\n",
        "born 부분만 월년일 순으로 출력.\n",
        "\n",
        "\n",
        "날짜에 관한 것입니다. 유의하세요."
      ],
      "metadata": {
        "id": "ZC-KZEsZ0_L_"
      }
    },
    {
      "cell_type": "code",
      "source": [
        "\n",
        "\n",
        "born_datetime = pd.to_datetime(scientists['Born'],format='%Y-%m-%d')\n",
        "\n",
        "print(born_datetime)\n",
        "\n",
        "changed_one=born_datetime.dt.strftime('%m/%d/%Y')\n",
        "\n",
        "print(changed_one)\n",
        "\n"
      ],
      "metadata": {
        "id": "mYtDG30VGIo3"
      },
      "execution_count": null,
      "outputs": []
    },
    {
      "cell_type": "markdown",
      "source": [
        "**[숙제41]** \n",
        "died 부분만 연월일 순으로 출력,\n",
        "born과 died 명칭을 born_dt, died_dt로 변경,\n",
        "변경된 scientists의 5행 까지만 출력"
      ],
      "metadata": {
        "id": "1O_GYKHh1EuJ"
      }
    },
    {
      "cell_type": "code",
      "source": [
        "\n",
        "died_datatime = pd.to_datetime(scientists['Died'],format='%Y-%m-%d')\n",
        "\n",
        "print(died_datatime)\n",
        "\n",
        "scientists['Born_dt'], scientists['Died_dt'] = (born_datetime, died_datatime)\n",
        "\n",
        "\n",
        "print(scientists.head())\n",
        "\n"
      ],
      "metadata": {
        "id": "LXTrLNcH0hKk"
      },
      "execution_count": null,
      "outputs": []
    },
    {
      "cell_type": "markdown",
      "source": [
        "**[숙제42]** \n",
        "life_days의 열을 추가로 만들고, died_dt와 born_dt의 차로 정의하는 코드이다."
      ],
      "metadata": {
        "id": "qgEz_JwR1Gqz"
      }
    },
    {
      "cell_type": "code",
      "source": [
        "scientists['life_days'] =  scientists['Died_dt'] - scientists['Born_dt']\n",
        "\n",
        "print(scientists)"
      ],
      "metadata": {
        "id": "brJk0PdKHNVp"
      },
      "execution_count": null,
      "outputs": []
    },
    {
      "cell_type": "markdown",
      "source": [
        "**[숙제43]** \n",
        "Age 부분만 출력,\n",
        "random를 사용하여 \n",
        "age 부분과 scientists의 3열까지만의 값들을 임의로 섞어서 나타내 준다. 또한 scientists를 출력할 때 age만 값이므로 age 부분만 섞이게 된다는 것을 알 수 있었다."
      ],
      "metadata": {
        "id": "LzLp9zbb1Hde"
      }
    },
    {
      "cell_type": "code",
      "source": [
        "print(scientists['Age'])\n",
        "\n",
        "import random\n",
        "\n",
        "random.seed(2)\n",
        "\n",
        "random.shuffle(scientists['Age'])\n",
        "\n",
        "print(scientists['Age'])\n",
        "\n",
        "print(scientists.iloc[:,0:4])\n"
      ],
      "metadata": {
        "id": "IPc_d5tfH4rL"
      },
      "execution_count": null,
      "outputs": []
    },
    {
      "cell_type": "markdown",
      "source": [
        "**[숙제44]** \n",
        "pickle 이라는 것을 이용하여 과학자들의 이름만 출력하게 한다."
      ],
      "metadata": {
        "id": "8mbswdv-1k4B"
      }
    },
    {
      "cell_type": "code",
      "source": [
        "## 피클로 만들어 저장하고 꺼내오기.\n",
        "\n",
        "import os\n",
        "\n",
        "print(os.getcwd())\n",
        "\n",
        "os.chdir('/content/')\n",
        "\n",
        "names = scientists['Name']\n",
        "\n",
        "names.to_pickle('../content/scientists_names.pickle')\n",
        "\n",
        "return_names = pd.read_pickle('../content//scientists_names.pickle')\n",
        "\n",
        "print(return_names)"
      ],
      "metadata": {
        "id": "ZNEu9PUNIngb"
      },
      "execution_count": null,
      "outputs": []
    },
    {
      "cell_type": "markdown",
      "source": [
        "**[숙제45]**\n",
        "\n",
        "매우 중요해요.\n",
        "하고 싶은것 위의 코드는 그냥 아까처럼 데이타 프래임을 만든 것이다. A, B ,C, D 가 행이고 인덱스 0,1,2,3을 사용하여 만든 데이타 프레임이 출력된다.\n",
        "세로 방향으로 저 세 데이타프레임을 이어 붙인 것을 출력,\n",
        "가로 방향으로 저 세 데이타프레임을 이어 붙인 것을 출력함을 의미."
      ],
      "metadata": {
        "id": "3wx8dQoUJuDt"
      }
    },
    {
      "cell_type": "code",
      "source": [
        "# Creating data frames\n",
        "df_King = pd.DataFrame({'A': ['A0', 'A1', 'A2', 'A3'],\n",
        "                        'B': ['B0', 'B1', 'B2', 'B3'],\n",
        "                        'C': ['C0', 'C1', 'C2', 'C3'],\n",
        "                        'D': ['D0', 'D1', 'D2', 'D3']},\n",
        "                        index=[0, 1, 2, 3])\n",
        "\n",
        "df_Whang = pd.DataFrame({'A': ['A4', 'A5', 'A6', 'A7'],\n",
        "                        'B': ['B4', 'B5', 'B6', 'B7'],\n",
        "                        'C': ['C4', 'C5', 'C6', 'C7'],\n",
        "                        'D': ['D4', 'D5', 'D6', 'D7']},\n",
        "                         index=[0, 1, 2, 3])\n",
        "\n",
        "df_ZZnag = pd.DataFrame({'A': ['A8', 'A9', 'A10', 'A11'],\n",
        "                        'B': ['B8', 'B9', 'B10', 'B11'],\n",
        "                        'C': ['C8', 'C9', 'C10', 'C11'],\n",
        "                        'D': ['D8', 'D9', 'D10', 'D11']},\n",
        "                        index=[0, 1, 2, 3])\n",
        "\n",
        "print(\"\\nThe DataFrame number 1\\n\",'-'*30, sep='')\n",
        "print(df_King)\n",
        "print(\"\\nThe DataFrame number 2\\n\",'-'*30, sep='')\n",
        "print(df_Whang)\n",
        "print(\"\\nThe DataFrame number 3\\n\",'-'*30, sep='')\n",
        "print(df_ZZnag)\n",
        "\n",
        "### 아래가 하고 싶은 것\n",
        "\n",
        "df_cat_A = pd.concat([df_King,df_Whang,df_ZZnag], axis=0)\n",
        "print(\"\\nAfter concatenation along row\\n\",'-'*30, sep='')\n",
        "print(df_cat_A)\n",
        "\n",
        "df_cat_B = pd.concat([df_King,df_Whang,df_ZZnag], axis=1)\n",
        "print(\"\\nAfter concatenation along column\\n\",'-'*60, sep='')\n",
        "print(df_cat_B)\n"
      ],
      "metadata": {
        "id": "TimXdU3rIQ9O"
      },
      "execution_count": null,
      "outputs": []
    },
    {
      "cell_type": "markdown",
      "source": [
        "**[숙제46]** \n",
        "pd.read_csv는 새로운 링크로 데이터를 가지고 오는 것을 의미.\n",
        "150×6 행렬임을 알려줌.\n",
        "저 링크속 데이타들을 5행 까지만 출력.\n",
        "저 링크속 데이타들을 뒤에서 5행까지만 출력."
      ],
      "metadata": {
        "id": "b1Vd9H3f1sH2"
      }
    },
    {
      "cell_type": "code",
      "source": [
        "import seaborn as sns\n",
        "\n",
        "targetUrl_iris=\"https://raw.githubusercontent.com/gundaminpde/2022/main/iris.csv\"\n",
        "\n",
        "irisData = pd.read_csv(targetUrl_iris)\n",
        "\n",
        "print(irisData.shape)\n",
        "\n",
        "print(irisData.head())\n",
        "\n",
        "irisData.tail()"
      ],
      "metadata": {
        "id": "iop1fh39My9q"
      },
      "execution_count": null,
      "outputs": []
    },
    {
      "cell_type": "markdown",
      "source": [
        "**[숙제47]**\n",
        "irisdata의 x축을 sepal_length로 하고 y축을 sepal_width로 하는 산점도를 그리는 코드이다."
      ],
      "metadata": {
        "id": "q49qumhk1uCa"
      }
    },
    {
      "cell_type": "code",
      "source": [
        "sns.set_theme()\n",
        "sns.set(rc={\"figure.dpi\":300}) #이미지 품질 설정\n",
        "sns.set(rc={\"figure.figsize\":(6,3)}) ## 크기설정\n",
        "\n",
        "\n",
        "## Scatter plot 산점도\n",
        "\n",
        "sns.scatterplot(x=\"Sepal_Length\", y =\"Sepal_Width\", data=irisData, hue ='Species')"
      ],
      "metadata": {
        "id": "BAK30n_8X8ak"
      },
      "execution_count": null,
      "outputs": []
    },
    {
      "cell_type": "markdown",
      "source": [
        "**[숙제48]** \n",
        "irisdata의 y축을 petal_length로 잡아서 x축이 도수가 되는 히스토그램을 그려주는 코드이다. 조금은 어색한 누워져있는 히스토그램이 나온다."
      ],
      "metadata": {
        "id": "z--Uolco1vwF"
      }
    },
    {
      "cell_type": "code",
      "source": [
        "## 히스토그램 histogram\n",
        "\n",
        "sns.histplot( y= \"Petal_Length\", data = irisData)\n"
      ],
      "metadata": {
        "id": "FxivfMEoaekB"
      },
      "execution_count": null,
      "outputs": []
    },
    {
      "cell_type": "markdown",
      "source": [
        "**[숙제49]** \n",
        "x축을 petal_length, y축을 이에 따른 도수로 하는 히스토그램을 그려주는 코드이다. 우리한테 친근한 모양의 정방향 히스토그램이다."
      ],
      "metadata": {
        "id": "ZfxxbyF01xDr"
      }
    },
    {
      "cell_type": "code",
      "source": [
        "sns.histplot( x= \"Petal_Length\", data = irisData)"
      ],
      "metadata": {
        "id": "VxyIcQ0dbORD"
      },
      "execution_count": null,
      "outputs": []
    },
    {
      "cell_type": "markdown",
      "source": [
        "**[숙제50]** irisdata의 x축을 petal_length로 하는 히스토그램인데, kde는 커널밀도함수를 의미하는데,\n",
        "히스토그램의 구간폭을 한없이 줄여서 곡선으로 표현하는 것을 말한다. kde 까지 추가된 히스토그램이다."
      ],
      "metadata": {
        "id": "6hL7B1HA1yo3"
      }
    },
    {
      "cell_type": "code",
      "source": [
        "sns.histplot( x= \"Petal_Length\", data = irisData, kde = \"True\")"
      ],
      "metadata": {
        "id": "6FCUgFE4bpB9"
      },
      "execution_count": null,
      "outputs": []
    },
    {
      "cell_type": "markdown",
      "source": [
        "**[숙제51]** .\n",
        "히스토그램의 대상들을 특정화 시켜주게끔 하여 히스토그램을 그려주는 코드이다."
      ],
      "metadata": {
        "id": "3TgGyvW111YB"
      }
    },
    {
      "cell_type": "code",
      "source": [
        "sns.histplot( x= \"Petal_Length\", data = irisData, hue = \"Species\")"
      ],
      "metadata": {
        "id": "yCyw1lmYbzFT"
      },
      "execution_count": null,
      "outputs": []
    },
    {
      "cell_type": "markdown",
      "source": [
        "**[숙제52]** \n",
        "x축이 species 이고 y축이 petal_width인 막대 그래프를 그려주는 코드이다."
      ],
      "metadata": {
        "id": "bynenrwQ13Qp"
      }
    },
    {
      "cell_type": "code",
      "source": [
        "## Barplot : 숫자 변수의 경향 추청치를 보여준다.\n",
        "\n",
        "sns.barplot(x=\"Species\", y=\"Petal_Width\", data =irisData)\n",
        "\n"
      ],
      "metadata": {
        "id": "GzPTo_z4cHSG"
      },
      "execution_count": null,
      "outputs": []
    },
    {
      "cell_type": "markdown",
      "source": [
        "**[숙제53]** \n",
        "x축을 species, y축을 sepal_length 각각의 변수에 색상을 입혀서 특정화 시킨다음 박스형태의 그래프를 그려주는 코드이다."
      ],
      "metadata": {
        "id": "nHXli0CL14SP"
      }
    },
    {
      "cell_type": "code",
      "source": [
        "## Box plot\n",
        "\n",
        "sns.boxplot(x=\"Species\", y=\"Sepal_Length\", data=irisData)"
      ],
      "metadata": {
        "id": "ErjPh8qddkCN"
      },
      "execution_count": null,
      "outputs": []
    },
    {
      "cell_type": "code",
      "source": [
        " ## sns.boxplot(x=\"Species\", y=\"Sepal_Length\", data=irisData, hue=\"group\") data에 group이 없다."
      ],
      "metadata": {
        "id": "iuphvhnceFnn"
      },
      "execution_count": null,
      "outputs": []
    }
  ]
}